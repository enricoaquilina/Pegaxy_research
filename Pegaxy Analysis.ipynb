{
 "cells": [
  {
   "cell_type": "code",
   "execution_count": 158,
   "id": "f138da1b-47f5-4b68-8f6c-147fcb21497a",
   "metadata": {},
   "outputs": [],
   "source": [
    "# from alive_progress import alive_bar\n",
    "# from fake_useragent import UserAgent\n",
    "from json import JSONDecodeError\n",
    "from datetime import datetime\n",
    "from functools import reduce\n",
    "from random import randint\n",
    "from random import seed\n",
    "import requests\n",
    "import pandas as pd\n",
    "import random\n",
    "import timeit\n",
    "import time\n",
    "\n",
    "import numpy as np\n",
    "import pickle\n",
    "import urllib\n",
    "\n",
    "import pickle\n",
    "import json\n",
    "import os\n",
    "import math\n",
    "import asyncio\n",
    "from urllib.error import HTTPError\n",
    "import aiohttp\n",
    "import platform\n",
    "from datetime import datetime\n",
    "import requests\n",
    "import statistics\n",
    "from aiohttp import ClientSession\n",
    "import matplotlib.pyplot as plt"
   ]
  },
  {
   "cell_type": "code",
   "execution_count": 159,
   "id": "d420c641",
   "metadata": {},
   "outputs": [],
   "source": [
    "class PegaxyExtractor:\n",
    "\n",
    "    def __init__(self):\n",
    "        self.data = []\n",
    "        self.filename = 'all_pegas {}.pkl'.format(datetime.now().strftime(\"%Y%m%d\"))\n",
    "\n",
    "        self.url1 = \"\"\n",
    "        self.url2 = \"\"\n",
    "        self.url3 = \"\"\n",
    "        \n",
    "#         ua = UserAgent()\n",
    "        # header = {'User-Agent':str(ua.firefox)}\n",
    "        # ua.random\n",
    "\n",
    "        user_agent_list = [\n",
    "            'Mozilla/5.0 (Macintosh; Intel Mac OS X 10_15_5) AppleWebKit/605.1.15 (KHTML, like Gecko) Version/13.1.1 Safari/605.1.15',\n",
    "            'Mozilla/5.0 (Windows NT 10.0; Win64; x64; rv:77.0) Gecko/20100101 Firefox/77.0',\n",
    "            'Mozilla/5.0 (Macintosh; Intel Mac OS X 10_15_5) AppleWebKit/537.36 (KHTML, like Gecko) Chrome/83.0.4103.97 Safari/537.36',\n",
    "            'Mozilla/5.0 (Macintosh; Intel Mac OS X 10.15; rv:77.0) Gecko/20100101 Firefox/77.0',\n",
    "            'Mozilla/5.0 (Windows NT 10.0; Win64; x64) AppleWebKit/537.36 (KHTML, like Gecko) Chrome/83.0.4103.97 Safari/537.36',\n",
    "#             ua.chrome,\n",
    "#             ua.firefox\n",
    "        ]\n",
    "\n",
    "    def get_count(self):\n",
    "        r = requests.get(\"https://api-apollo.pegaxy.io/v1/game-api/market/pegasListing/{id}?&marketType=FixedPrice&currency=0xc2132D05D31c914a87C6611C10748AEb04B58e8F&breedFrom=0&breedTo=7\")\n",
    "        print(\"Getting {} Pegas, {} pages\".format(r.json()['total'], math.ceil(r.json()['total'] / 12)))\n",
    "        return math.ceil(r.json()['total'] / 12)\n",
    "    def transform(self, data):\n",
    "        pega_details = []\n",
    "\n",
    "        for iteration in data:\n",
    "            for pega in iteration:\n",
    "                pega_details.append(pega)\n",
    "        \n",
    "        self.save(pega_details)\n",
    "\n",
    "    def save(self, data, filename=None):\n",
    "        if filename is None:\n",
    "            filename = self.filename\n",
    "\n",
    "        file = open(filename, 'wb')\n",
    "        pickle.dump(data, file)\n",
    "    def load(self, filename=None):\n",
    "        if filename is None:\n",
    "            filename = self.filename\n",
    "        with open(filename, 'rb') as f:\n",
    "            print(filename)\n",
    "            pega_details = pickle.load(f) \n",
    "            print(len(pega_details))\n",
    "        return pega_details\n",
    "\n",
    "    async def get_pega(\n",
    "        self,\n",
    "        session: aiohttp.ClientSession,\n",
    "        id: int,\n",
    "        **kwargs\n",
    "    ) -> dict:        \n",
    "        url = f\"https://api-apollo.pegaxy.io/v1/game-api/market/listing/{id}\"\n",
    "        # url = f\"https://api-apollo.pegaxy.io/v1/game-api/pega/{id}\"\n",
    "        response = await session.request('GET', url=url, **kwargs)\n",
    "        details = await response.json()\n",
    "        return details\n",
    "    async def get_market_pegas(\n",
    "        self,\n",
    "        session: aiohttp.ClientSession,\n",
    "        id: int,\n",
    "        **kwargs\n",
    "    ) -> dict:\n",
    "\n",
    "        url = f\"https://api-apollo.pegaxy.io/v1/game-api/market/pegasListing/{id}?&marketType=FixedPrice&currency=0xc2132D05D31c914a87C6611C10748AEb04B58e8F&breedFrom=0&breedTo=7\"\n",
    "\n",
    "        response = await session.request('GET', url=url, **kwargs)\n",
    "        # Note that this may raise an exception for non-2xx responses\n",
    "        # You can either handle that here, or pass the exception through\n",
    "        data = await response.json()\n",
    "\n",
    "        return data['market']        \n",
    "\n",
    "    async def start(self, pages):\n",
    "        async with ClientSession() as session:\n",
    "            tasks = [] \n",
    "\n",
    "            for i in range(pages):\n",
    "                tasks.append(self.get_market_pegas(session=session, id=i))\n",
    "\n",
    "            data = await asyncio.gather(*tasks, return_exceptions=True)\n",
    "            self.transform(data)\n",
    "    async def get_deets(self):\n",
    "        async with ClientSession() as session:\n",
    "            tasks = [] \n",
    "\n",
    "            pegas = self.load()\n",
    "\n",
    "            for pega in pegas:\n",
    "                tasks.append(self.get_pega(session=session, id=pega['id']))\n",
    "\n",
    "            data = await asyncio.gather(*tasks, return_exceptions=True)\n",
    "            self.save(data)\n"
   ]
  },
  {
   "cell_type": "markdown",
   "id": "b1c8c8ef",
   "metadata": {},
   "source": [
    "# Initiating Transformation"
   ]
  },
  {
   "cell_type": "code",
   "execution_count": 160,
   "id": "e445ce38",
   "metadata": {},
   "outputs": [
    {
     "name": "stdout",
     "output_type": "stream",
     "text": [
      "all_pegas 20220220.pkl\n",
      "1081\n"
     ]
    }
   ],
   "source": [
    "# Start Transformation\n",
    "if __name__ == '__main__':\n",
    "    ext = PegaxyExtractor()\n",
    "    \n",
    "# pegas = ext.load('all_pegas 20220213.pkl')\n",
    "    pegas = ext.load()\n",
    "    transformed = []\n",
    "    for idx, pega in enumerate(pegas):\n",
    "        new_pega = {}\n",
    "        if type(pega) is not dict:\n",
    "            del pegas[idx]\n",
    "\n",
    "        if type(pega) is dict:\n",
    "            new_pega['id'] = pega['listing']['id']      \n",
    "            new_pega['nftId'] = pega['nft']['id']      \n",
    "            new_pega['ownerId'] = pega['nft']['ownerId']\n",
    "            new_pega['nftAddress'] = pega['listing']['nft']\n",
    "            \n",
    "            if 'nft' in pega and 'total_races' in pega['nft'] and pega['nft']['total_races'] != 0:\n",
    "                win_rate = \"{:.2f}\".format((pega['nft']['win'] / pega['nft']['total_races'])*100)\n",
    "                new_pega['win_rate'] = win_rate \n",
    "            if  math.floor(pega['nft']['speed']) > 0 and math.floor(pega['nft']['strength']) > 0 and math.floor(pega['nft']['wind']) > 0 and \\\n",
    "                math.floor(pega['nft']['water']) > 0 and math.floor(pega['nft']['fire']) > 0 and math.floor(pega['nft']['lighting']) > 0:\n",
    "                new_pega['stats_decent'] = True\n",
    "            else:\n",
    "                new_pega['stats_decent'] = False\n",
    "            \n",
    "            \n",
    "            stats_agg = statistics.fmean([pega['nft']['speed'], pega['nft']['strength'], pega['nft']['wind'], pega['nft']['water'], pega['nft']['fire'], pega['nft']['lighting']])\n",
    "            new_pega['stats_agg'] = \"{:.2f}\".format(stats_agg)\n",
    "                \n",
    "            rng_agg = statistics.fmean([pega['nft']['wind'], pega['nft']['water'], pega['nft']['fire'], pega['nft']['lighting']])\n",
    "            new_pega['rng_agg'] = \"{:.2f}\".format(rng_agg)\n",
    "            \n",
    "            new_pega['price'] = \"{:}\".format(int(pega['listing']['price'])/1000000)\n",
    "            new_pega['speed'] = pega['nft']['speed']\n",
    "            new_pega['strength'] = pega['nft']['strength']\n",
    "            new_pega['lightning'] = pega['nft']['lighting']\n",
    "            new_pega['wind'] = pega['nft']['wind'] \n",
    "            new_pega['water'] = pega['nft']['water']\n",
    "            new_pega['fire'] = pega['nft']['fire']\n",
    "            new_pega['wins'] = pega['nft']['win']\n",
    "            new_pega['loss'] = pega['nft']['lose']\n",
    "            new_pega['total_races'] = pega['nft']['total_races']\n",
    "            new_pega['breedTime'] = pega['nft']['breedTime']\n",
    "            new_pega['owner'] = pega['listing']['owner']['address']\n",
    "            new_pega['name'] = pega['nft']['name']\n",
    "            new_pega['bloodline'] = pega['nft']['bloodLine']\n",
    "            new_pega['breedType'] = pega['nft']['breedType']        \n",
    "            new_pega['inService'] = pega['nft']['inService']\n",
    "            new_pega['gender'] = pega['nft']['gender']\n",
    "        \n",
    "        transformed.append(new_pega)\n",
    "            \n",
    "    df = pd.DataFrame(transformed)\n",
    "    df.head()"
   ]
  },
  {
   "cell_type": "code",
   "execution_count": 161,
   "id": "75d95f87",
   "metadata": {},
   "outputs": [
    {
     "data": {
      "text/html": [
       "<div>\n",
       "<style scoped>\n",
       "    .dataframe tbody tr th:only-of-type {\n",
       "        vertical-align: middle;\n",
       "    }\n",
       "\n",
       "    .dataframe tbody tr th {\n",
       "        vertical-align: top;\n",
       "    }\n",
       "\n",
       "    .dataframe thead th {\n",
       "        text-align: right;\n",
       "    }\n",
       "</style>\n",
       "<table border=\"1\" class=\"dataframe\">\n",
       "  <thead>\n",
       "    <tr style=\"text-align: right;\">\n",
       "      <th></th>\n",
       "      <th>name</th>\n",
       "      <th>win_rate</th>\n",
       "      <th>price</th>\n",
       "      <th>rng_agg</th>\n",
       "      <th>stats_agg</th>\n",
       "      <th>stats_decent</th>\n",
       "      <th>speed</th>\n",
       "      <th>strength</th>\n",
       "      <th>lightning</th>\n",
       "      <th>wind</th>\n",
       "      <th>water</th>\n",
       "      <th>fire</th>\n",
       "      <th>breedTime</th>\n",
       "      <th>wins</th>\n",
       "      <th>loss</th>\n",
       "      <th>total_races</th>\n",
       "      <th>bloodline</th>\n",
       "      <th>gender</th>\n",
       "    </tr>\n",
       "    <tr>\n",
       "      <th>id</th>\n",
       "      <th></th>\n",
       "      <th></th>\n",
       "      <th></th>\n",
       "      <th></th>\n",
       "      <th></th>\n",
       "      <th></th>\n",
       "      <th></th>\n",
       "      <th></th>\n",
       "      <th></th>\n",
       "      <th></th>\n",
       "      <th></th>\n",
       "      <th></th>\n",
       "      <th></th>\n",
       "      <th></th>\n",
       "      <th></th>\n",
       "      <th></th>\n",
       "      <th></th>\n",
       "      <th></th>\n",
       "    </tr>\n",
       "  </thead>\n",
       "  <tbody>\n",
       "    <tr>\n",
       "      <th>52651</th>\n",
       "      <td>red</td>\n",
       "      <td>78.75</td>\n",
       "      <td>649000.0</td>\n",
       "      <td>6.59</td>\n",
       "      <td>6.50</td>\n",
       "      <td>True</td>\n",
       "      <td>6.69</td>\n",
       "      <td>5.96</td>\n",
       "      <td>7.22</td>\n",
       "      <td>3.17</td>\n",
       "      <td>8.46</td>\n",
       "      <td>7.52</td>\n",
       "      <td>0.0</td>\n",
       "      <td>278.0</td>\n",
       "      <td>75.0</td>\n",
       "      <td>353.0</td>\n",
       "      <td>Campona</td>\n",
       "      <td>Female</td>\n",
       "    </tr>\n",
       "    <tr>\n",
       "      <th>11211</th>\n",
       "      <td>Mirage</td>\n",
       "      <td>67.62</td>\n",
       "      <td>24000.0</td>\n",
       "      <td>4.81</td>\n",
       "      <td>4.79</td>\n",
       "      <td>False</td>\n",
       "      <td>2.19</td>\n",
       "      <td>7.30</td>\n",
       "      <td>4.10</td>\n",
       "      <td>6.93</td>\n",
       "      <td>7.27</td>\n",
       "      <td>0.95</td>\n",
       "      <td>0.0</td>\n",
       "      <td>213.0</td>\n",
       "      <td>102.0</td>\n",
       "      <td>315.0</td>\n",
       "      <td>Campona</td>\n",
       "      <td>Female</td>\n",
       "    </tr>\n",
       "    <tr>\n",
       "      <th>201798</th>\n",
       "      <td>X925 | Angela Merkel</td>\n",
       "      <td>54.17</td>\n",
       "      <td>2750.0</td>\n",
       "      <td>7.32</td>\n",
       "      <td>7.14</td>\n",
       "      <td>True</td>\n",
       "      <td>6.02</td>\n",
       "      <td>7.57</td>\n",
       "      <td>8.18</td>\n",
       "      <td>7.43</td>\n",
       "      <td>6.79</td>\n",
       "      <td>6.88</td>\n",
       "      <td>0.0</td>\n",
       "      <td>13.0</td>\n",
       "      <td>11.0</td>\n",
       "      <td>24.0</td>\n",
       "      <td>Hoz</td>\n",
       "      <td>Male</td>\n",
       "    </tr>\n",
       "    <tr>\n",
       "      <th>88832</th>\n",
       "      <td>Shiny Pegasus</td>\n",
       "      <td>54.17</td>\n",
       "      <td>99000.0</td>\n",
       "      <td>5.55</td>\n",
       "      <td>5.60</td>\n",
       "      <td>True</td>\n",
       "      <td>5.86</td>\n",
       "      <td>5.54</td>\n",
       "      <td>6.59</td>\n",
       "      <td>7.56</td>\n",
       "      <td>6.70</td>\n",
       "      <td>1.35</td>\n",
       "      <td>0.0</td>\n",
       "      <td>143.0</td>\n",
       "      <td>121.0</td>\n",
       "      <td>264.0</td>\n",
       "      <td>Hoz</td>\n",
       "      <td>Female</td>\n",
       "    </tr>\n",
       "    <tr>\n",
       "      <th>185311</th>\n",
       "      <td>Hoz Light Speed</td>\n",
       "      <td>48.55</td>\n",
       "      <td>31000.0</td>\n",
       "      <td>4.01</td>\n",
       "      <td>4.68</td>\n",
       "      <td>False</td>\n",
       "      <td>3.84</td>\n",
       "      <td>8.20</td>\n",
       "      <td>0.85</td>\n",
       "      <td>6.80</td>\n",
       "      <td>7.57</td>\n",
       "      <td>0.84</td>\n",
       "      <td>0.0</td>\n",
       "      <td>235.0</td>\n",
       "      <td>249.0</td>\n",
       "      <td>484.0</td>\n",
       "      <td>Hoz</td>\n",
       "      <td>Male</td>\n",
       "    </tr>\n",
       "  </tbody>\n",
       "</table>\n",
       "</div>"
      ],
      "text/plain": [
       "                        name  win_rate     price  rng_agg  stats_agg  \\\n",
       "id                                                                     \n",
       "52651                    red     78.75  649000.0     6.59       6.50   \n",
       "11211                 Mirage     67.62   24000.0     4.81       4.79   \n",
       "201798  X925 | Angela Merkel     54.17    2750.0     7.32       7.14   \n",
       "88832          Shiny Pegasus     54.17   99000.0     5.55       5.60   \n",
       "185311       Hoz Light Speed     48.55   31000.0     4.01       4.68   \n",
       "\n",
       "       stats_decent  speed  strength  lightning  wind  water  fire  breedTime  \\\n",
       "id                                                                              \n",
       "52651          True   6.69      5.96       7.22  3.17   8.46  7.52        0.0   \n",
       "11211         False   2.19      7.30       4.10  6.93   7.27  0.95        0.0   \n",
       "201798         True   6.02      7.57       8.18  7.43   6.79  6.88        0.0   \n",
       "88832          True   5.86      5.54       6.59  7.56   6.70  1.35        0.0   \n",
       "185311        False   3.84      8.20       0.85  6.80   7.57  0.84        0.0   \n",
       "\n",
       "         wins   loss  total_races bloodline  gender  \n",
       "id                                                   \n",
       "52651   278.0   75.0        353.0   Campona  Female  \n",
       "11211   213.0  102.0        315.0   Campona  Female  \n",
       "201798   13.0   11.0         24.0       Hoz    Male  \n",
       "88832   143.0  121.0        264.0       Hoz  Female  \n",
       "185311  235.0  249.0        484.0       Hoz    Male  "
      ]
     },
     "execution_count": 161,
     "metadata": {},
     "output_type": "execute_result"
    }
   ],
   "source": [
    "df['id'] = df['id'].astype(str).apply(lambda x: x.replace('.0',''))\n",
    "df['nftId'] = df['nftId'].astype(str).apply(lambda x: x.replace('.0',''))\n",
    "df['ownerId'] = df['ownerId'].astype(str).apply(lambda x: x.replace('.0',''))\n",
    "df['stats_agg'] = df['stats_agg'].astype(float)\n",
    "df['rng_agg'] = df['rng_agg'].astype(float)\n",
    "# Change NAs to 0\n",
    "# df['wins'] = df['wins'].astype(int)\n",
    "df['loss'] = df['loss'].astype(float)\n",
    "df['total_races'] = df['total_races'].astype(float)\n",
    "df['price'] = df['price'].astype(float)\n",
    "df['win_rate'] = df['win_rate'].astype(float)\n",
    "\n",
    "\n",
    "# df = df.drop(labels=['message', 'status', 'listing', 'nft'], axis=1)\n",
    "df = df.dropna();\n",
    "\n",
    "# column_names = [\"id\", \"name\", \"win_rate\", \"price\", \"rng_agg\", \"stats_decent\", \"speed\", \"strength\", \"lightning\", \"wind\", \"water\", \"fire\", \"stats_agg\", \"breedTime\", \"wins\",\"loss\",\"total_races\", \"bloodline\", \"breedType\", \"inService\", \"gender\", \"nftId\", \"ownerId\", \"owner\", \"nftAddress\"]\n",
    "column_names = [\"id\", \"name\", \"win_rate\", \"price\", \"rng_agg\", \"stats_agg\", \"stats_decent\", \"speed\", \"strength\", \"lightning\", \"wind\", \"water\", \"fire\", \"breedTime\", \"wins\",\"loss\",\"total_races\",\"bloodline\",\"gender\"]\n",
    "df = df.reindex(columns=column_names)\n",
    "\n",
    "df = df.sort_values(by=['win_rate'], ascending=False);\n",
    "df.round(2)\n",
    "df.set_index('id', inplace=True)\n",
    "df.shape\n",
    "df.head()\n"
   ]
  },
  {
   "cell_type": "markdown",
   "id": "d8b9efcd",
   "metadata": {},
   "source": [
    "# Segmentation by Win Rate"
   ]
  },
  {
   "cell_type": "code",
   "execution_count": 162,
   "id": "d89bb2a4",
   "metadata": {},
   "outputs": [],
   "source": [
    "win_rate1 = df[df['win_rate'] < 19]\n",
    "win_rate2 = df[(df['win_rate'] > 19) & (df['win_rate'] <= 30)]\n",
    "win_rate3 = df[(df['win_rate'] > 30) & (df['win_rate'] <= 40)]\n",
    "win_rate4 = df[(df['win_rate'] > 40) & (df['win_rate'] <= 50)]\n",
    "win_rate5 = df[df['win_rate'] > 50]"
   ]
  },
  {
   "cell_type": "code",
   "execution_count": 163,
   "id": "fc79c802",
   "metadata": {},
   "outputs": [
    {
     "name": "stdout",
     "output_type": "stream",
     "text": [
      "Total pegas for today: 650\n"
     ]
    }
   ],
   "source": [
    "total = len(win_rate1) + len(win_rate2) + len(win_rate3) + len(win_rate4) + len(win_rate5)\n",
    "print(\"Total pegas for today: {}\".format(total))"
   ]
  },
  {
   "cell_type": "code",
   "execution_count": 164,
   "id": "7bc0bf47",
   "metadata": {},
   "outputs": [
    {
     "name": "stdout",
     "output_type": "stream",
     "text": [
      "Less than 19% --- 1.85%   [12]\n",
      "19% - 30% --- 83.38%   [542]\n",
      "30% - 40% --- 12.62%   [82]\n",
      "40% - 50% --- 1.54%   [10]\n",
      "More than 50% --- 0.62%   [4]\n"
     ]
    },
    {
     "data": {
      "image/png": "[encoded data removed]",
      "text/plain": [
       "<Figure size 432x288 with 1 Axes>"
      ]
     },
     "metadata": {
      "needs_background": "light"
     },
     "output_type": "display_data"
    }
   ],
   "source": [
    "print(\"Less than 19% --- {:.2f}%   [{}]\".format(((len(win_rate1) / total)*100), len(win_rate1)))\n",
    "print(\"19% - 30% --- {:.2f}%   [{}]\".format(((len(win_rate2) / total)*100), len(win_rate2)))\n",
    "print(\"30% - 40% --- {:.2f}%   [{}]\".format(((len(win_rate3) / total)*100), len(win_rate3)))\n",
    "print(\"40% - 50% --- {:.2f}%   [{}]\".format(((len(win_rate4) / total)*100), len(win_rate4)))\n",
    "print(\"More than 50% --- {:.2f}%   [{}]\".format(((len(win_rate5) / total)*100), len(win_rate5)))\n",
    "\n",
    "buckets = ['< 19%','20% - 30%','30% - 40%','40%-50%','> 50%']\n",
    "bucket_counts = [len(win_rate1), len(win_rate2), len(win_rate3), len(win_rate4), len(win_rate5)]\n",
    "\n",
    "fig = plt.figure()\n",
    "ax = fig.add_axes([0,0,1,1])\n",
    "ax.set_title('Count of Pegas by win rate')\n",
    "\n",
    "\n",
    "ax.bar(buckets, bucket_counts)\n",
    "plt.show()"
   ]
  },
  {
   "cell_type": "markdown",
   "id": "9d39e2b7",
   "metadata": {},
   "source": [
    "# Top Pega Analysis"
   ]
  },
  {
   "cell_type": "code",
   "execution_count": 165,
   "id": "60c988e7",
   "metadata": {},
   "outputs": [
    {
     "name": "stdout",
     "output_type": "stream",
     "text": [
      "Mean Total Stats:     5.41\n",
      "Mean RNG Stats:       5.35\n"
     ]
    },
    {
     "data": {
      "text/html": [
       "<div>\n",
       "<style scoped>\n",
       "    .dataframe tbody tr th:only-of-type {\n",
       "        vertical-align: middle;\n",
       "    }\n",
       "\n",
       "    .dataframe tbody tr th {\n",
       "        vertical-align: top;\n",
       "    }\n",
       "\n",
       "    .dataframe thead th {\n",
       "        text-align: right;\n",
       "    }\n",
       "</style>\n",
       "<table border=\"1\" class=\"dataframe\">\n",
       "  <thead>\n",
       "    <tr style=\"text-align: right;\">\n",
       "      <th></th>\n",
       "      <th>name</th>\n",
       "      <th>win_rate</th>\n",
       "      <th>price</th>\n",
       "      <th>rng_agg</th>\n",
       "      <th>stats_agg</th>\n",
       "      <th>stats_decent</th>\n",
       "      <th>speed</th>\n",
       "      <th>strength</th>\n",
       "      <th>lightning</th>\n",
       "      <th>wind</th>\n",
       "      <th>water</th>\n",
       "      <th>fire</th>\n",
       "      <th>breedTime</th>\n",
       "      <th>wins</th>\n",
       "      <th>loss</th>\n",
       "      <th>total_races</th>\n",
       "      <th>bloodline</th>\n",
       "      <th>gender</th>\n",
       "    </tr>\n",
       "    <tr>\n",
       "      <th>id</th>\n",
       "      <th></th>\n",
       "      <th></th>\n",
       "      <th></th>\n",
       "      <th></th>\n",
       "      <th></th>\n",
       "      <th></th>\n",
       "      <th></th>\n",
       "      <th></th>\n",
       "      <th></th>\n",
       "      <th></th>\n",
       "      <th></th>\n",
       "      <th></th>\n",
       "      <th></th>\n",
       "      <th></th>\n",
       "      <th></th>\n",
       "      <th></th>\n",
       "      <th></th>\n",
       "      <th></th>\n",
       "    </tr>\n",
       "  </thead>\n",
       "  <tbody>\n",
       "    <tr>\n",
       "      <th>52651</th>\n",
       "      <td>red</td>\n",
       "      <td>78.75</td>\n",
       "      <td>649000.0</td>\n",
       "      <td>6.59</td>\n",
       "      <td>6.50</td>\n",
       "      <td>True</td>\n",
       "      <td>6.69</td>\n",
       "      <td>5.96</td>\n",
       "      <td>7.22</td>\n",
       "      <td>3.17</td>\n",
       "      <td>8.46</td>\n",
       "      <td>7.52</td>\n",
       "      <td>0.0</td>\n",
       "      <td>278.0</td>\n",
       "      <td>75.0</td>\n",
       "      <td>353.0</td>\n",
       "      <td>Campona</td>\n",
       "      <td>Female</td>\n",
       "    </tr>\n",
       "    <tr>\n",
       "      <th>11211</th>\n",
       "      <td>Mirage</td>\n",
       "      <td>67.62</td>\n",
       "      <td>24000.0</td>\n",
       "      <td>4.81</td>\n",
       "      <td>4.79</td>\n",
       "      <td>False</td>\n",
       "      <td>2.19</td>\n",
       "      <td>7.30</td>\n",
       "      <td>4.10</td>\n",
       "      <td>6.93</td>\n",
       "      <td>7.27</td>\n",
       "      <td>0.95</td>\n",
       "      <td>0.0</td>\n",
       "      <td>213.0</td>\n",
       "      <td>102.0</td>\n",
       "      <td>315.0</td>\n",
       "      <td>Campona</td>\n",
       "      <td>Female</td>\n",
       "    </tr>\n",
       "    <tr>\n",
       "      <th>88832</th>\n",
       "      <td>Shiny Pegasus</td>\n",
       "      <td>54.17</td>\n",
       "      <td>99000.0</td>\n",
       "      <td>5.55</td>\n",
       "      <td>5.60</td>\n",
       "      <td>True</td>\n",
       "      <td>5.86</td>\n",
       "      <td>5.54</td>\n",
       "      <td>6.59</td>\n",
       "      <td>7.56</td>\n",
       "      <td>6.70</td>\n",
       "      <td>1.35</td>\n",
       "      <td>0.0</td>\n",
       "      <td>143.0</td>\n",
       "      <td>121.0</td>\n",
       "      <td>264.0</td>\n",
       "      <td>Hoz</td>\n",
       "      <td>Female</td>\n",
       "    </tr>\n",
       "    <tr>\n",
       "      <th>185311</th>\n",
       "      <td>Hoz Light Speed</td>\n",
       "      <td>48.55</td>\n",
       "      <td>31000.0</td>\n",
       "      <td>4.01</td>\n",
       "      <td>4.68</td>\n",
       "      <td>False</td>\n",
       "      <td>3.84</td>\n",
       "      <td>8.20</td>\n",
       "      <td>0.85</td>\n",
       "      <td>6.80</td>\n",
       "      <td>7.57</td>\n",
       "      <td>0.84</td>\n",
       "      <td>0.0</td>\n",
       "      <td>235.0</td>\n",
       "      <td>249.0</td>\n",
       "      <td>484.0</td>\n",
       "      <td>Hoz</td>\n",
       "      <td>Male</td>\n",
       "    </tr>\n",
       "    <tr>\n",
       "      <th>200950</th>\n",
       "      <td>Marian O'Conner</td>\n",
       "      <td>45.62</td>\n",
       "      <td>3499.0</td>\n",
       "      <td>6.79</td>\n",
       "      <td>5.83</td>\n",
       "      <td>False</td>\n",
       "      <td>0.93</td>\n",
       "      <td>6.86</td>\n",
       "      <td>6.01</td>\n",
       "      <td>5.30</td>\n",
       "      <td>8.64</td>\n",
       "      <td>7.21</td>\n",
       "      <td>3.0</td>\n",
       "      <td>245.0</td>\n",
       "      <td>292.0</td>\n",
       "      <td>537.0</td>\n",
       "      <td>Hoz</td>\n",
       "      <td>Male</td>\n",
       "    </tr>\n",
       "    <tr>\n",
       "      <th>187521</th>\n",
       "      <td>KabayoniAdam</td>\n",
       "      <td>43.13</td>\n",
       "      <td>11500.0</td>\n",
       "      <td>6.04</td>\n",
       "      <td>4.79</td>\n",
       "      <td>True</td>\n",
       "      <td>1.81</td>\n",
       "      <td>2.78</td>\n",
       "      <td>8.29</td>\n",
       "      <td>4.57</td>\n",
       "      <td>4.93</td>\n",
       "      <td>6.35</td>\n",
       "      <td>0.0</td>\n",
       "      <td>801.0</td>\n",
       "      <td>1056.0</td>\n",
       "      <td>1857.0</td>\n",
       "      <td>Campona</td>\n",
       "      <td>Female</td>\n",
       "    </tr>\n",
       "    <tr>\n",
       "      <th>204027</th>\n",
       "      <td>PicrocHoz #156</td>\n",
       "      <td>42.67</td>\n",
       "      <td>1300.0</td>\n",
       "      <td>6.50</td>\n",
       "      <td>7.17</td>\n",
       "      <td>True</td>\n",
       "      <td>8.55</td>\n",
       "      <td>8.48</td>\n",
       "      <td>7.20</td>\n",
       "      <td>3.68</td>\n",
       "      <td>8.08</td>\n",
       "      <td>7.05</td>\n",
       "      <td>2.0</td>\n",
       "      <td>227.0</td>\n",
       "      <td>305.0</td>\n",
       "      <td>532.0</td>\n",
       "      <td>Hoz</td>\n",
       "      <td>Male</td>\n",
       "    </tr>\n",
       "    <tr>\n",
       "      <th>126909</th>\n",
       "      <td>Mira #3</td>\n",
       "      <td>42.05</td>\n",
       "      <td>40000.0</td>\n",
       "      <td>4.09</td>\n",
       "      <td>4.53</td>\n",
       "      <td>True</td>\n",
       "      <td>4.87</td>\n",
       "      <td>5.95</td>\n",
       "      <td>1.62</td>\n",
       "      <td>7.76</td>\n",
       "      <td>5.24</td>\n",
       "      <td>1.75</td>\n",
       "      <td>0.0</td>\n",
       "      <td>653.0</td>\n",
       "      <td>900.0</td>\n",
       "      <td>1553.0</td>\n",
       "      <td>Hoz</td>\n",
       "      <td>Male</td>\n",
       "    </tr>\n",
       "    <tr>\n",
       "      <th>148552</th>\n",
       "      <td>Mt Everest</td>\n",
       "      <td>40.83</td>\n",
       "      <td>30000.0</td>\n",
       "      <td>4.58</td>\n",
       "      <td>5.49</td>\n",
       "      <td>False</td>\n",
       "      <td>6.18</td>\n",
       "      <td>8.41</td>\n",
       "      <td>8.63</td>\n",
       "      <td>0.64</td>\n",
       "      <td>4.95</td>\n",
       "      <td>4.12</td>\n",
       "      <td>0.0</td>\n",
       "      <td>334.0</td>\n",
       "      <td>484.0</td>\n",
       "      <td>818.0</td>\n",
       "      <td>Hoz</td>\n",
       "      <td>Male</td>\n",
       "    </tr>\n",
       "    <tr>\n",
       "      <th>201769</th>\n",
       "      <td>CRISTIANO RONALDO</td>\n",
       "      <td>40.69</td>\n",
       "      <td>1499.0</td>\n",
       "      <td>4.55</td>\n",
       "      <td>4.72</td>\n",
       "      <td>True</td>\n",
       "      <td>8.78</td>\n",
       "      <td>1.33</td>\n",
       "      <td>6.55</td>\n",
       "      <td>3.46</td>\n",
       "      <td>6.24</td>\n",
       "      <td>1.95</td>\n",
       "      <td>2.0</td>\n",
       "      <td>118.0</td>\n",
       "      <td>172.0</td>\n",
       "      <td>290.0</td>\n",
       "      <td>Hoz</td>\n",
       "      <td>Male</td>\n",
       "    </tr>\n",
       "  </tbody>\n",
       "</table>\n",
       "</div>"
      ],
      "text/plain": [
       "                     name  win_rate     price  rng_agg  stats_agg  \\\n",
       "id                                                                  \n",
       "52651                 red     78.75  649000.0     6.59       6.50   \n",
       "11211              Mirage     67.62   24000.0     4.81       4.79   \n",
       "88832       Shiny Pegasus     54.17   99000.0     5.55       5.60   \n",
       "185311    Hoz Light Speed     48.55   31000.0     4.01       4.68   \n",
       "200950    Marian O'Conner     45.62    3499.0     6.79       5.83   \n",
       "187521       KabayoniAdam     43.13   11500.0     6.04       4.79   \n",
       "204027     PicrocHoz #156     42.67    1300.0     6.50       7.17   \n",
       "126909            Mira #3     42.05   40000.0     4.09       4.53   \n",
       "148552         Mt Everest     40.83   30000.0     4.58       5.49   \n",
       "201769  CRISTIANO RONALDO     40.69    1499.0     4.55       4.72   \n",
       "\n",
       "       stats_decent  speed  strength  lightning  wind  water  fire  breedTime  \\\n",
       "id                                                                              \n",
       "52651          True   6.69      5.96       7.22  3.17   8.46  7.52        0.0   \n",
       "11211         False   2.19      7.30       4.10  6.93   7.27  0.95        0.0   \n",
       "88832          True   5.86      5.54       6.59  7.56   6.70  1.35        0.0   \n",
       "185311        False   3.84      8.20       0.85  6.80   7.57  0.84        0.0   \n",
       "200950        False   0.93      6.86       6.01  5.30   8.64  7.21        3.0   \n",
       "187521         True   1.81      2.78       8.29  4.57   4.93  6.35        0.0   \n",
       "204027         True   8.55      8.48       7.20  3.68   8.08  7.05        2.0   \n",
       "126909         True   4.87      5.95       1.62  7.76   5.24  1.75        0.0   \n",
       "148552        False   6.18      8.41       8.63  0.64   4.95  4.12        0.0   \n",
       "201769         True   8.78      1.33       6.55  3.46   6.24  1.95        2.0   \n",
       "\n",
       "         wins    loss  total_races bloodline  gender  \n",
       "id                                                    \n",
       "52651   278.0    75.0        353.0   Campona  Female  \n",
       "11211   213.0   102.0        315.0   Campona  Female  \n",
       "88832   143.0   121.0        264.0       Hoz  Female  \n",
       "185311  235.0   249.0        484.0       Hoz    Male  \n",
       "200950  245.0   292.0        537.0       Hoz    Male  \n",
       "187521  801.0  1056.0       1857.0   Campona  Female  \n",
       "204027  227.0   305.0        532.0       Hoz    Male  \n",
       "126909  653.0   900.0       1553.0       Hoz    Male  \n",
       "148552  334.0   484.0        818.0       Hoz    Male  \n",
       "201769  118.0   172.0        290.0       Hoz    Male  "
      ]
     },
     "execution_count": 165,
     "metadata": {},
     "output_type": "execute_result"
    }
   ],
   "source": [
    "top_pegas = df[(df['total_races'] >= 200)] \n",
    "top_pegas = top_pegas.sort_values(by=['win_rate'], ascending=False)\n",
    "top_pegas = top_pegas.iloc[:10]\n",
    "\n",
    "print(\"Mean Total Stats:     {:.2f}\".format(top_pegas['stats_agg'].mean()));\n",
    "print(\"Mean RNG Stats:       {:.2f}\".format(top_pegas['rng_agg'].mean()));\n",
    "top_pegas"
   ]
  },
  {
   "cell_type": "markdown",
   "id": "a5358f09",
   "metadata": {},
   "source": [
    "# Best value for Money"
   ]
  },
  {
   "cell_type": "code",
   "execution_count": 168,
   "id": "f7f3f85b",
   "metadata": {},
   "outputs": [
    {
     "data": {
      "text/html": [
       "<div>\n",
       "<style scoped>\n",
       "    .dataframe tbody tr th:only-of-type {\n",
       "        vertical-align: middle;\n",
       "    }\n",
       "\n",
       "    .dataframe tbody tr th {\n",
       "        vertical-align: top;\n",
       "    }\n",
       "\n",
       "    .dataframe thead th {\n",
       "        text-align: right;\n",
       "    }\n",
       "</style>\n",
       "<table border=\"1\" class=\"dataframe\">\n",
       "  <thead>\n",
       "    <tr style=\"text-align: right;\">\n",
       "      <th></th>\n",
       "      <th>name</th>\n",
       "      <th>win_rate</th>\n",
       "      <th>price</th>\n",
       "      <th>rng_agg</th>\n",
       "      <th>stats_agg</th>\n",
       "      <th>stats_decent</th>\n",
       "      <th>speed</th>\n",
       "      <th>strength</th>\n",
       "      <th>lightning</th>\n",
       "      <th>wind</th>\n",
       "      <th>water</th>\n",
       "      <th>fire</th>\n",
       "      <th>breedTime</th>\n",
       "      <th>wins</th>\n",
       "      <th>loss</th>\n",
       "      <th>total_races</th>\n",
       "      <th>bloodline</th>\n",
       "      <th>gender</th>\n",
       "    </tr>\n",
       "    <tr>\n",
       "      <th>id</th>\n",
       "      <th></th>\n",
       "      <th></th>\n",
       "      <th></th>\n",
       "      <th></th>\n",
       "      <th></th>\n",
       "      <th></th>\n",
       "      <th></th>\n",
       "      <th></th>\n",
       "      <th></th>\n",
       "      <th></th>\n",
       "      <th></th>\n",
       "      <th></th>\n",
       "      <th></th>\n",
       "      <th></th>\n",
       "      <th></th>\n",
       "      <th></th>\n",
       "      <th></th>\n",
       "      <th></th>\n",
       "    </tr>\n",
       "  </thead>\n",
       "  <tbody>\n",
       "    <tr>\n",
       "      <th>204027</th>\n",
       "      <td>PicrocHoz #156</td>\n",
       "      <td>42.67</td>\n",
       "      <td>1300.0</td>\n",
       "      <td>6.50</td>\n",
       "      <td>7.17</td>\n",
       "      <td>True</td>\n",
       "      <td>8.55</td>\n",
       "      <td>8.48</td>\n",
       "      <td>7.20</td>\n",
       "      <td>3.68</td>\n",
       "      <td>8.08</td>\n",
       "      <td>7.05</td>\n",
       "      <td>2.0</td>\n",
       "      <td>227.0</td>\n",
       "      <td>305.0</td>\n",
       "      <td>532.0</td>\n",
       "      <td>Hoz</td>\n",
       "      <td>Male</td>\n",
       "    </tr>\n",
       "    <tr>\n",
       "      <th>201808</th>\n",
       "      <td>Dexter Effertz</td>\n",
       "      <td>40.85</td>\n",
       "      <td>1499.0</td>\n",
       "      <td>6.99</td>\n",
       "      <td>5.62</td>\n",
       "      <td>True</td>\n",
       "      <td>3.62</td>\n",
       "      <td>2.16</td>\n",
       "      <td>7.84</td>\n",
       "      <td>3.19</td>\n",
       "      <td>8.66</td>\n",
       "      <td>8.28</td>\n",
       "      <td>3.0</td>\n",
       "      <td>29.0</td>\n",
       "      <td>42.0</td>\n",
       "      <td>71.0</td>\n",
       "      <td>Hoz</td>\n",
       "      <td>Male</td>\n",
       "    </tr>\n",
       "    <tr>\n",
       "      <th>201769</th>\n",
       "      <td>CRISTIANO RONALDO</td>\n",
       "      <td>40.69</td>\n",
       "      <td>1499.0</td>\n",
       "      <td>4.55</td>\n",
       "      <td>4.72</td>\n",
       "      <td>True</td>\n",
       "      <td>8.78</td>\n",
       "      <td>1.33</td>\n",
       "      <td>6.55</td>\n",
       "      <td>3.46</td>\n",
       "      <td>6.24</td>\n",
       "      <td>1.95</td>\n",
       "      <td>2.0</td>\n",
       "      <td>118.0</td>\n",
       "      <td>172.0</td>\n",
       "      <td>290.0</td>\n",
       "      <td>Hoz</td>\n",
       "      <td>Male</td>\n",
       "    </tr>\n",
       "    <tr>\n",
       "      <th>199725</th>\n",
       "      <td>Speedy G</td>\n",
       "      <td>41.84</td>\n",
       "      <td>1900.0</td>\n",
       "      <td>4.90</td>\n",
       "      <td>4.11</td>\n",
       "      <td>False</td>\n",
       "      <td>3.99</td>\n",
       "      <td>1.04</td>\n",
       "      <td>6.58</td>\n",
       "      <td>0.27</td>\n",
       "      <td>8.13</td>\n",
       "      <td>4.62</td>\n",
       "      <td>2.0</td>\n",
       "      <td>59.0</td>\n",
       "      <td>82.0</td>\n",
       "      <td>141.0</td>\n",
       "      <td>Hoz</td>\n",
       "      <td>Male</td>\n",
       "    </tr>\n",
       "    <tr>\n",
       "      <th>198793</th>\n",
       "      <td>Heat Vision</td>\n",
       "      <td>41.67</td>\n",
       "      <td>1998.0</td>\n",
       "      <td>4.62</td>\n",
       "      <td>4.35</td>\n",
       "      <td>True</td>\n",
       "      <td>4.94</td>\n",
       "      <td>2.68</td>\n",
       "      <td>4.73</td>\n",
       "      <td>4.46</td>\n",
       "      <td>7.62</td>\n",
       "      <td>1.67</td>\n",
       "      <td>0.0</td>\n",
       "      <td>15.0</td>\n",
       "      <td>21.0</td>\n",
       "      <td>36.0</td>\n",
       "      <td>Hoz</td>\n",
       "      <td>Male</td>\n",
       "    </tr>\n",
       "  </tbody>\n",
       "</table>\n",
       "</div>"
      ],
      "text/plain": [
       "                     name  win_rate   price  rng_agg  stats_agg stats_decent  \\\n",
       "id                                                                             \n",
       "204027     PicrocHoz #156     42.67  1300.0     6.50       7.17         True   \n",
       "201808     Dexter Effertz     40.85  1499.0     6.99       5.62         True   \n",
       "201769  CRISTIANO RONALDO     40.69  1499.0     4.55       4.72         True   \n",
       "199725           Speedy G     41.84  1900.0     4.90       4.11        False   \n",
       "198793        Heat Vision     41.67  1998.0     4.62       4.35         True   \n",
       "\n",
       "        speed  strength  lightning  wind  water  fire  breedTime   wins  \\\n",
       "id                                                                        \n",
       "204027   8.55      8.48       7.20  3.68   8.08  7.05        2.0  227.0   \n",
       "201808   3.62      2.16       7.84  3.19   8.66  8.28        3.0   29.0   \n",
       "201769   8.78      1.33       6.55  3.46   6.24  1.95        2.0  118.0   \n",
       "199725   3.99      1.04       6.58  0.27   8.13  4.62        2.0   59.0   \n",
       "198793   4.94      2.68       4.73  4.46   7.62  1.67        0.0   15.0   \n",
       "\n",
       "         loss  total_races bloodline gender  \n",
       "id                                           \n",
       "204027  305.0        532.0       Hoz   Male  \n",
       "201808   42.0         71.0       Hoz   Male  \n",
       "201769  172.0        290.0       Hoz   Male  \n",
       "199725   82.0        141.0       Hoz   Male  \n",
       "198793   21.0         36.0       Hoz   Male  "
      ]
     },
     "execution_count": 168,
     "metadata": {},
     "output_type": "execute_result"
    }
   ],
   "source": [
    "df['price'] = df['price'].astype(float)\n",
    "test = df[(df['price'] <= 3000) & (df['win_rate'] > 40)   ] \n",
    "test = test.sort_values(by=['price'], ascending=True) #[test['stats_decent'] == True]\n",
    "test.head()\n",
    "# df = df.dropna();\n",
    "# df[df['win_rate'] == 0]\n",
    "# df.shape;\n",
    "\n",
    "# df = df[(df['price'] <= 1300) & (df['breedTime'] == 0)]\n",
    "# df = df.sort_values(by=['rng_mean'], ascending=False);\n",
    "# df.head()\n",
    "\n"
   ]
  },
  {
   "cell_type": "code",
   "execution_count": 154,
   "id": "9dc2502e",
   "metadata": {},
   "outputs": [
    {
     "data": {
      "image/png": "[encoded data removed]",
      "text/plain": [
       "<Figure size 720x504 with 2 Axes>"
      ]
     },
     "metadata": {
      "needs_background": "light"
     },
     "output_type": "display_data"
    }
   ],
   "source": [
    "df['price'] = df['price'].astype(float)\n",
    "df[\"win_rate\"] = df[\"win_rate\"].astype(float)\n",
    "df[\"stats_agg\"] = df[\"stats_agg\"].astype(float)\n",
    "\n",
    "test = df[(df['price'] <= 20000) & (df['win_rate'] > 35) ] # & (df['price'] <= 2250) & (df['breedTime'] == 0) & (df['gender'] == 'Male')\n",
    "# test = test[test['stats_decent'] == True].sort_values(by=['price'], ascending=False)\n",
    "test.head()\n",
    "# df = df.dropna();\n",
    "# df[df['win_rate'] == 0]\n",
    "# df.shape;\n",
    "\n",
    "# df = df[(df['price'] <= 1300) & (df['breedTime'] == 0)]\n",
    "# df = df.sort_values(by=['rng_mean'], ascending=False);\n",
    "# df.head()\n",
    "\n",
    "\n",
    "\n",
    "# x = df['stats_agg'][:20]\n",
    "# y = df['win_rate'][:20]\n",
    "\n",
    "# plt.scatter(df['stats_agg'],df['win_rate'])\n",
    "# plt.ylabel('Win Rate')\n",
    "# plt.xlabel('Stats Agg')\n",
    "# plt.show()\n",
    "from mpl_toolkits import mplot3d\n",
    "\n",
    "\n",
    "fig = plt.figure(figsize = (10, 7))\n",
    "ax = plt.axes(projection =\"3d\")\n",
    " \n",
    "    \n",
    "my_cmap = plt.get_cmap('hsv')\n",
    "y = test['rng_agg']\n",
    "x = test['win_rate']\n",
    "z = test['price']\n",
    "\n",
    "# Creating plot\n",
    "sctt = ax.scatter3D(x, y, z,\n",
    "             alpha = 0.8,\n",
    "             c = (x + y + z),\n",
    "             cmap = my_cmap,\n",
    "             marker ='^')\n",
    "plt.title(\"simple 3D scatter plot\")\n",
    "fig.colorbar(sctt, ax = ax, shrink = 0.5, aspect = 5)\n",
    "\n",
    " \n",
    "plt.show()"
   ]
  },
  {
   "cell_type": "code",
   "execution_count": 172,
   "id": "3a048122",
   "metadata": {},
   "outputs": [
    {
     "data": {
      "image/png": "[encoded data removed]",
      "text/plain": [
       "<Figure size 432x288 with 1 Axes>"
      ]
     },
     "metadata": {
      "needs_background": "light"
     },
     "output_type": "display_data"
    }
   ],
   "source": [
    "df['price'] = df['price'].astype(float)\n",
    "df[\"win_rate\"] = df[\"win_rate\"].astype(float)\n",
    "df[\"stats_agg\"] = df[\"stats_agg\"].astype(float)\n",
    "\n",
    "test = df[(df['win_rate'] > 40)& (df['win_rate'] < 50)] # & (df['price'] <= 2250) & (df['breedTime'] == 0) & (df['gender'] == 'Male')\n",
    "# test = test[test['stats_decent'] == True].sort_values(by=['price'], ascending=False)\n",
    "test.head()\n",
    "\n",
    "plt.scatter(test['win_rate'], test['stats_agg'])\n",
    "plt.xlabel('Win rate')\n",
    "plt.ylabel('Stats mean')\n",
    "plt.show()"
   ]
  },
  {
   "cell_type": "code",
   "execution_count": 173,
   "id": "86ea3134",
   "metadata": {},
   "outputs": [
    {
     "data": {
      "application/vnd.plotly.v1+json": {
       "config": {
        "plotlyServerURL": "https://plot.ly"
       },
       "data": [
        {
         "hovertemplate": "stats_decent=False<br>win_rate=%{x}<br>rng_agg=%{y}<br>price=%{z}<extra></extra>",
         "legendgroup": "False",
         "marker": {
          "color": "#636efa",
          "symbol": "circle"
         },
         "mode": "markers",
         "name": "False",
         "scene": "scene",
         "showlegend": true,
         "type": "scatter3d",
         "x": [
          48.55,
          45.62,
          41.84,
          40.83
         ],
         "y": [
          4.01,
          6.79,
          4.9,
          4.58
         ],
         "z": [
          31000,
          3499,
          1900,
          30000
         ]
        },
        {
         "hovertemplate": "stats_decent=True<br>win_rate=%{x}<br>rng_agg=%{y}<br>price=%{z}<extra></extra>",
         "legendgroup": "True",
         "marker": {
          "color": "#EF553B",
          "symbol": "circle"
         },
         "mode": "markers",
         "name": "True",
         "scene": "scene",
         "showlegend": true,
         "type": "scatter3d",
         "x": [
          43.13,
          42.67,
          42.05,
          41.67,
          40.85,
          40.69
         ],
         "y": [
          6.04,
          6.5,
          4.09,
          4.62,
          6.99,
          4.55
         ],
         "z": [
          11500,
          1300,
          40000,
          1998,
          1499,
          1499
         ]
        }
       ],
       "layout": {
        "legend": {
         "title": {
          "text": "stats_decent"
         },
         "tracegroupgap": 0
        },
        "margin": {
         "t": 60
        },
        "scene": {
         "domain": {
          "x": [
           0,
           1
          ],
          "y": [
           0,
           1
          ]
         },
         "xaxis": {
          "title": {
           "text": "win_rate"
          }
         },
         "yaxis": {
          "title": {
           "text": "rng_agg"
          }
         },
         "zaxis": {
          "title": {
           "text": "price"
          }
         }
        },
        "template": {
         "data": {
          "bar": [
           {
            "error_x": {
             "color": "#2a3f5f"
            },
            "error_y": {
             "color": "#2a3f5f"
            },
            "marker": {
             "line": {
              "color": "#E5ECF6",
              "width": 0.5
             },
             "pattern": {
              "fillmode": "overlay",
              "size": 10,
              "solidity": 0.2
             }
            },
            "type": "bar"
           }
          ],
          "barpolar": [
           {
            "marker": {
             "line": {
              "color": "#E5ECF6",
              "width": 0.5
             },
             "pattern": {
              "fillmode": "overlay",
              "size": 10,
              "solidity": 0.2
             }
            },
            "type": "barpolar"
           }
          ],
          "carpet": [
           {
            "aaxis": {
             "endlinecolor": "#2a3f5f",
             "gridcolor": "white",
             "linecolor": "white",
             "minorgridcolor": "white",
             "startlinecolor": "#2a3f5f"
            },
            "baxis": {
             "endlinecolor": "#2a3f5f",
             "gridcolor": "white",
             "linecolor": "white",
             "minorgridcolor": "white",
             "startlinecolor": "#2a3f5f"
            },
            "type": "carpet"
           }
          ],
          "choropleth": [
           {
            "colorbar": {
             "outlinewidth": 0,
             "ticks": ""
            },
            "type": "choropleth"
           }
          ],
          "contour": [
           {
            "colorbar": {
             "outlinewidth": 0,
             "ticks": ""
            },
            "colorscale": [
             [
              0,
              "#0d0887"
             ],
             [
              0.1111111111111111,
              "#46039f"
             ],
             [
              0.2222222222222222,
              "#7201a8"
             ],
             [
              0.3333333333333333,
              "#9c179e"
             ],
             [
              0.4444444444444444,
              "#bd3786"
             ],
             [
              0.5555555555555556,
              "#d8576b"
             ],
             [
              0.6666666666666666,
              "#ed7953"
             ],
             [
              0.7777777777777778,
              "#fb9f3a"
             ],
             [
              0.8888888888888888,
              "#fdca26"
             ],
             [
              1,
              "#f0f921"
             ]
            ],
            "type": "contour"
           }
          ],
          "contourcarpet": [
           {
            "colorbar": {
             "outlinewidth": 0,
             "ticks": ""
            },
            "type": "contourcarpet"
           }
          ],
          "heatmap": [
           {
            "colorbar": {
             "outlinewidth": 0,
             "ticks": ""
            },
            "colorscale": [
             [
              0,
              "#0d0887"
             ],
             [
              0.1111111111111111,
              "#46039f"
             ],
             [
              0.2222222222222222,
              "#7201a8"
             ],
             [
              0.3333333333333333,
              "#9c179e"
             ],
             [
              0.4444444444444444,
              "#bd3786"
             ],
             [
              0.5555555555555556,
              "#d8576b"
             ],
             [
              0.6666666666666666,
              "#ed7953"
             ],
             [
              0.7777777777777778,
              "#fb9f3a"
             ],
             [
              0.8888888888888888,
              "#fdca26"
             ],
             [
              1,
              "#f0f921"
             ]
            ],
            "type": "heatmap"
           }
          ],
          "heatmapgl": [
           {
            "colorbar": {
             "outlinewidth": 0,
             "ticks": ""
            },
            "colorscale": [
             [
              0,
              "#0d0887"
             ],
             [
              0.1111111111111111,
              "#46039f"
             ],
             [
              0.2222222222222222,
              "#7201a8"
             ],
             [
              0.3333333333333333,
              "#9c179e"
             ],
             [
              0.4444444444444444,
              "#bd3786"
             ],
             [
              0.5555555555555556,
              "#d8576b"
             ],
             [
              0.6666666666666666,
              "#ed7953"
             ],
             [
              0.7777777777777778,
              "#fb9f3a"
             ],
             [
              0.8888888888888888,
              "#fdca26"
             ],
             [
              1,
              "#f0f921"
             ]
            ],
            "type": "heatmapgl"
           }
          ],
          "histogram": [
           {
            "marker": {
             "pattern": {
              "fillmode": "overlay",
              "size": 10,
              "solidity": 0.2
             }
            },
            "type": "histogram"
           }
          ],
          "histogram2d": [
           {
            "colorbar": {
             "outlinewidth": 0,
             "ticks": ""
            },
            "colorscale": [
             [
              0,
              "#0d0887"
             ],
             [
              0.1111111111111111,
              "#46039f"
             ],
             [
              0.2222222222222222,
              "#7201a8"
             ],
             [
              0.3333333333333333,
              "#9c179e"
             ],
             [
              0.4444444444444444,
              "#bd3786"
             ],
             [
              0.5555555555555556,
              "#d8576b"
             ],
             [
              0.6666666666666666,
              "#ed7953"
             ],
             [
              0.7777777777777778,
              "#fb9f3a"
             ],
             [
              0.8888888888888888,
              "#fdca26"
             ],
             [
              1,
              "#f0f921"
             ]
            ],
            "type": "histogram2d"
           }
          ],
          "histogram2dcontour": [
           {
            "colorbar": {
             "outlinewidth": 0,
             "ticks": ""
            },
            "colorscale": [
             [
              0,
              "#0d0887"
             ],
             [
              0.1111111111111111,
              "#46039f"
             ],
             [
              0.2222222222222222,
              "#7201a8"
             ],
             [
              0.3333333333333333,
              "#9c179e"
             ],
             [
              0.4444444444444444,
              "#bd3786"
             ],
             [
              0.5555555555555556,
              "#d8576b"
             ],
             [
              0.6666666666666666,
              "#ed7953"
             ],
             [
              0.7777777777777778,
              "#fb9f3a"
             ],
             [
              0.8888888888888888,
              "#fdca26"
             ],
             [
              1,
              "#f0f921"
             ]
            ],
            "type": "histogram2dcontour"
           }
          ],
          "mesh3d": [
           {
            "colorbar": {
             "outlinewidth": 0,
             "ticks": ""
            },
            "type": "mesh3d"
           }
          ],
          "parcoords": [
           {
            "line": {
             "colorbar": {
              "outlinewidth": 0,
              "ticks": ""
             }
            },
            "type": "parcoords"
           }
          ],
          "pie": [
           {
            "automargin": true,
            "type": "pie"
           }
          ],
          "scatter": [
           {
            "marker": {
             "colorbar": {
              "outlinewidth": 0,
              "ticks": ""
             }
            },
            "type": "scatter"
           }
          ],
          "scatter3d": [
           {
            "line": {
             "colorbar": {
              "outlinewidth": 0,
              "ticks": ""
             }
            },
            "marker": {
             "colorbar": {
              "outlinewidth": 0,
              "ticks": ""
             }
            },
            "type": "scatter3d"
           }
          ],
          "scattercarpet": [
           {
            "marker": {
             "colorbar": {
              "outlinewidth": 0,
              "ticks": ""
             }
            },
            "type": "scattercarpet"
           }
          ],
          "scattergeo": [
           {
            "marker": {
             "colorbar": {
              "outlinewidth": 0,
              "ticks": ""
             }
            },
            "type": "scattergeo"
           }
          ],
          "scattergl": [
           {
            "marker": {
             "colorbar": {
              "outlinewidth": 0,
              "ticks": ""
             }
            },
            "type": "scattergl"
           }
          ],
          "scattermapbox": [
           {
            "marker": {
             "colorbar": {
              "outlinewidth": 0,
              "ticks": ""
             }
            },
            "type": "scattermapbox"
           }
          ],
          "scatterpolar": [
           {
            "marker": {
             "colorbar": {
              "outlinewidth": 0,
              "ticks": ""
             }
            },
            "type": "scatterpolar"
           }
          ],
          "scatterpolargl": [
           {
            "marker": {
             "colorbar": {
              "outlinewidth": 0,
              "ticks": ""
             }
            },
            "type": "scatterpolargl"
           }
          ],
          "scatterternary": [
           {
            "marker": {
             "colorbar": {
              "outlinewidth": 0,
              "ticks": ""
             }
            },
            "type": "scatterternary"
           }
          ],
          "surface": [
           {
            "colorbar": {
             "outlinewidth": 0,
             "ticks": ""
            },
            "colorscale": [
             [
              0,
              "#0d0887"
             ],
             [
              0.1111111111111111,
              "#46039f"
             ],
             [
              0.2222222222222222,
              "#7201a8"
             ],
             [
              0.3333333333333333,
              "#9c179e"
             ],
             [
              0.4444444444444444,
              "#bd3786"
             ],
             [
              0.5555555555555556,
              "#d8576b"
             ],
             [
              0.6666666666666666,
              "#ed7953"
             ],
             [
              0.7777777777777778,
              "#fb9f3a"
             ],
             [
              0.8888888888888888,
              "#fdca26"
             ],
             [
              1,
              "#f0f921"
             ]
            ],
            "type": "surface"
           }
          ],
          "table": [
           {
            "cells": {
             "fill": {
              "color": "#EBF0F8"
             },
             "line": {
              "color": "white"
             }
            },
            "header": {
             "fill": {
              "color": "#C8D4E3"
             },
             "line": {
              "color": "white"
             }
            },
            "type": "table"
           }
          ]
         },
         "layout": {
          "annotationdefaults": {
           "arrowcolor": "#2a3f5f",
           "arrowhead": 0,
           "arrowwidth": 1
          },
          "autotypenumbers": "strict",
          "coloraxis": {
           "colorbar": {
            "outlinewidth": 0,
            "ticks": ""
           }
          },
          "colorscale": {
           "diverging": [
            [
             0,
             "#8e0152"
            ],
            [
             0.1,
             "#c51b7d"
            ],
            [
             0.2,
             "#de77ae"
            ],
            [
             0.3,
             "#f1b6da"
            ],
            [
             0.4,
             "#fde0ef"
            ],
            [
             0.5,
             "#f7f7f7"
            ],
            [
             0.6,
             "#e6f5d0"
            ],
            [
             0.7,
             "#b8e186"
            ],
            [
             0.8,
             "#7fbc41"
            ],
            [
             0.9,
             "#4d9221"
            ],
            [
             1,
             "#276419"
            ]
           ],
           "sequential": [
            [
             0,
             "#0d0887"
            ],
            [
             0.1111111111111111,
             "#46039f"
            ],
            [
             0.2222222222222222,
             "#7201a8"
            ],
            [
             0.3333333333333333,
             "#9c179e"
            ],
            [
             0.4444444444444444,
             "#bd3786"
            ],
            [
             0.5555555555555556,
             "#d8576b"
            ],
            [
             0.6666666666666666,
             "#ed7953"
            ],
            [
             0.7777777777777778,
             "#fb9f3a"
            ],
            [
             0.8888888888888888,
             "#fdca26"
            ],
            [
             1,
             "#f0f921"
            ]
           ],
           "sequentialminus": [
            [
             0,
             "#0d0887"
            ],
            [
             0.1111111111111111,
             "#46039f"
            ],
            [
             0.2222222222222222,
             "#7201a8"
            ],
            [
             0.3333333333333333,
             "#9c179e"
            ],
            [
             0.4444444444444444,
             "#bd3786"
            ],
            [
             0.5555555555555556,
             "#d8576b"
            ],
            [
             0.6666666666666666,
             "#ed7953"
            ],
            [
             0.7777777777777778,
             "#fb9f3a"
            ],
            [
             0.8888888888888888,
             "#fdca26"
            ],
            [
             1,
             "#f0f921"
            ]
           ]
          },
          "colorway": [
           "#636efa",
           "#EF553B",
           "#00cc96",
           "#ab63fa",
           "#FFA15A",
           "#19d3f3",
           "#FF6692",
           "#B6E880",
           "#FF97FF",
           "#FECB52"
          ],
          "font": {
           "color": "#2a3f5f"
          },
          "geo": {
           "bgcolor": "white",
           "lakecolor": "white",
           "landcolor": "#E5ECF6",
           "showlakes": true,
           "showland": true,
           "subunitcolor": "white"
          },
          "hoverlabel": {
           "align": "left"
          },
          "hovermode": "closest",
          "mapbox": {
           "style": "light"
          },
          "paper_bgcolor": "white",
          "plot_bgcolor": "#E5ECF6",
          "polar": {
           "angularaxis": {
            "gridcolor": "white",
            "linecolor": "white",
            "ticks": ""
           },
           "bgcolor": "#E5ECF6",
           "radialaxis": {
            "gridcolor": "white",
            "linecolor": "white",
            "ticks": ""
           }
          },
          "scene": {
           "xaxis": {
            "backgroundcolor": "#E5ECF6",
            "gridcolor": "white",
            "gridwidth": 2,
            "linecolor": "white",
            "showbackground": true,
            "ticks": "",
            "zerolinecolor": "white"
           },
           "yaxis": {
            "backgroundcolor": "#E5ECF6",
            "gridcolor": "white",
            "gridwidth": 2,
            "linecolor": "white",
            "showbackground": true,
            "ticks": "",
            "zerolinecolor": "white"
           },
           "zaxis": {
            "backgroundcolor": "#E5ECF6",
            "gridcolor": "white",
            "gridwidth": 2,
            "linecolor": "white",
            "showbackground": true,
            "ticks": "",
            "zerolinecolor": "white"
           }
          },
          "shapedefaults": {
           "line": {
            "color": "#2a3f5f"
           }
          },
          "ternary": {
           "aaxis": {
            "gridcolor": "white",
            "linecolor": "white",
            "ticks": ""
           },
           "baxis": {
            "gridcolor": "white",
            "linecolor": "white",
            "ticks": ""
           },
           "bgcolor": "#E5ECF6",
           "caxis": {
            "gridcolor": "white",
            "linecolor": "white",
            "ticks": ""
           }
          },
          "title": {
           "x": 0.05
          },
          "xaxis": {
           "automargin": true,
           "gridcolor": "white",
           "linecolor": "white",
           "ticks": "",
           "title": {
            "standoff": 15
           },
           "zerolinecolor": "white",
           "zerolinewidth": 2
          },
          "yaxis": {
           "automargin": true,
           "gridcolor": "white",
           "linecolor": "white",
           "ticks": "",
           "title": {
            "standoff": 15
           },
           "zerolinecolor": "white",
           "zerolinewidth": 2
          }
         }
        }
       }
      },
      "text/html": [
       "<div>                            <div id=\"9e12c3a7-eefc-4c55-9363-c525df1db35e\" class=\"plotly-graph-div\" style=\"height:525px; width:100%;\"></div>            <script type=\"text/javascript\">                require([\"plotly\"], function(Plotly) {                    window.PLOTLYENV=window.PLOTLYENV || {};                                    if (document.getElementById(\"9e12c3a7-eefc-4c55-9363-c525df1db35e\")) {                    Plotly.newPlot(                        \"9e12c3a7-eefc-4c55-9363-c525df1db35e\",                        [{\"hovertemplate\":\"stats_decent=False<br>win_rate=%{x}<br>rng_agg=%{y}<br>price=%{z}<extra></extra>\",\"legendgroup\":\"False\",\"marker\":{\"color\":\"#636efa\",\"symbol\":\"circle\"},\"mode\":\"markers\",\"name\":\"False\",\"scene\":\"scene\",\"showlegend\":true,\"x\":[48.55,45.62,41.84,40.83],\"y\":[4.01,6.79,4.9,4.58],\"z\":[31000.0,3499.0,1900.0,30000.0],\"type\":\"scatter3d\"},{\"hovertemplate\":\"stats_decent=True<br>win_rate=%{x}<br>rng_agg=%{y}<br>price=%{z}<extra></extra>\",\"legendgroup\":\"True\",\"marker\":{\"color\":\"#EF553B\",\"symbol\":\"circle\"},\"mode\":\"markers\",\"name\":\"True\",\"scene\":\"scene\",\"showlegend\":true,\"x\":[43.13,42.67,42.05,41.67,40.85,40.69],\"y\":[6.04,6.5,4.09,4.62,6.99,4.55],\"z\":[11500.0,1300.0,40000.0,1998.0,1499.0,1499.0],\"type\":\"scatter3d\"}],                        {\"template\":{\"data\":{\"bar\":[{\"error_x\":{\"color\":\"#2a3f5f\"},\"error_y\":{\"color\":\"#2a3f5f\"},\"marker\":{\"line\":{\"color\":\"#E5ECF6\",\"width\":0.5},\"pattern\":{\"fillmode\":\"overlay\",\"size\":10,\"solidity\":0.2}},\"type\":\"bar\"}],\"barpolar\":[{\"marker\":{\"line\":{\"color\":\"#E5ECF6\",\"width\":0.5},\"pattern\":{\"fillmode\":\"overlay\",\"size\":10,\"solidity\":0.2}},\"type\":\"barpolar\"}],\"carpet\":[{\"aaxis\":{\"endlinecolor\":\"#2a3f5f\",\"gridcolor\":\"white\",\"linecolor\":\"white\",\"minorgridcolor\":\"white\",\"startlinecolor\":\"#2a3f5f\"},\"baxis\":{\"endlinecolor\":\"#2a3f5f\",\"gridcolor\":\"white\",\"linecolor\":\"white\",\"minorgridcolor\":\"white\",\"startlinecolor\":\"#2a3f5f\"},\"type\":\"carpet\"}],\"choropleth\":[{\"colorbar\":{\"outlinewidth\":0,\"ticks\":\"\"},\"type\":\"choropleth\"}],\"contour\":[{\"colorbar\":{\"outlinewidth\":0,\"ticks\":\"\"},\"colorscale\":[[0.0,\"#0d0887\"],[0.1111111111111111,\"#46039f\"],[0.2222222222222222,\"#7201a8\"],[0.3333333333333333,\"#9c179e\"],[0.4444444444444444,\"#bd3786\"],[0.5555555555555556,\"#d8576b\"],[0.6666666666666666,\"#ed7953\"],[0.7777777777777778,\"#fb9f3a\"],[0.8888888888888888,\"#fdca26\"],[1.0,\"#f0f921\"]],\"type\":\"contour\"}],\"contourcarpet\":[{\"colorbar\":{\"outlinewidth\":0,\"ticks\":\"\"},\"type\":\"contourcarpet\"}],\"heatmap\":[{\"colorbar\":{\"outlinewidth\":0,\"ticks\":\"\"},\"colorscale\":[[0.0,\"#0d0887\"],[0.1111111111111111,\"#46039f\"],[0.2222222222222222,\"#7201a8\"],[0.3333333333333333,\"#9c179e\"],[0.4444444444444444,\"#bd3786\"],[0.5555555555555556,\"#d8576b\"],[0.6666666666666666,\"#ed7953\"],[0.7777777777777778,\"#fb9f3a\"],[0.8888888888888888,\"#fdca26\"],[1.0,\"#f0f921\"]],\"type\":\"heatmap\"}],\"heatmapgl\":[{\"colorbar\":{\"outlinewidth\":0,\"ticks\":\"\"},\"colorscale\":[[0.0,\"#0d0887\"],[0.1111111111111111,\"#46039f\"],[0.2222222222222222,\"#7201a8\"],[0.3333333333333333,\"#9c179e\"],[0.4444444444444444,\"#bd3786\"],[0.5555555555555556,\"#d8576b\"],[0.6666666666666666,\"#ed7953\"],[0.7777777777777778,\"#fb9f3a\"],[0.8888888888888888,\"#fdca26\"],[1.0,\"#f0f921\"]],\"type\":\"heatmapgl\"}],\"histogram\":[{\"marker\":{\"pattern\":{\"fillmode\":\"overlay\",\"size\":10,\"solidity\":0.2}},\"type\":\"histogram\"}],\"histogram2d\":[{\"colorbar\":{\"outlinewidth\":0,\"ticks\":\"\"},\"colorscale\":[[0.0,\"#0d0887\"],[0.1111111111111111,\"#46039f\"],[0.2222222222222222,\"#7201a8\"],[0.3333333333333333,\"#9c179e\"],[0.4444444444444444,\"#bd3786\"],[0.5555555555555556,\"#d8576b\"],[0.6666666666666666,\"#ed7953\"],[0.7777777777777778,\"#fb9f3a\"],[0.8888888888888888,\"#fdca26\"],[1.0,\"#f0f921\"]],\"type\":\"histogram2d\"}],\"histogram2dcontour\":[{\"colorbar\":{\"outlinewidth\":0,\"ticks\":\"\"},\"colorscale\":[[0.0,\"#0d0887\"],[0.1111111111111111,\"#46039f\"],[0.2222222222222222,\"#7201a8\"],[0.3333333333333333,\"#9c179e\"],[0.4444444444444444,\"#bd3786\"],[0.5555555555555556,\"#d8576b\"],[0.6666666666666666,\"#ed7953\"],[0.7777777777777778,\"#fb9f3a\"],[0.8888888888888888,\"#fdca26\"],[1.0,\"#f0f921\"]],\"type\":\"histogram2dcontour\"}],\"mesh3d\":[{\"colorbar\":{\"outlinewidth\":0,\"ticks\":\"\"},\"type\":\"mesh3d\"}],\"parcoords\":[{\"line\":{\"colorbar\":{\"outlinewidth\":0,\"ticks\":\"\"}},\"type\":\"parcoords\"}],\"pie\":[{\"automargin\":true,\"type\":\"pie\"}],\"scatter\":[{\"marker\":{\"colorbar\":{\"outlinewidth\":0,\"ticks\":\"\"}},\"type\":\"scatter\"}],\"scatter3d\":[{\"line\":{\"colorbar\":{\"outlinewidth\":0,\"ticks\":\"\"}},\"marker\":{\"colorbar\":{\"outlinewidth\":0,\"ticks\":\"\"}},\"type\":\"scatter3d\"}],\"scattercarpet\":[{\"marker\":{\"colorbar\":{\"outlinewidth\":0,\"ticks\":\"\"}},\"type\":\"scattercarpet\"}],\"scattergeo\":[{\"marker\":{\"colorbar\":{\"outlinewidth\":0,\"ticks\":\"\"}},\"type\":\"scattergeo\"}],\"scattergl\":[{\"marker\":{\"colorbar\":{\"outlinewidth\":0,\"ticks\":\"\"}},\"type\":\"scattergl\"}],\"scattermapbox\":[{\"marker\":{\"colorbar\":{\"outlinewidth\":0,\"ticks\":\"\"}},\"type\":\"scattermapbox\"}],\"scatterpolar\":[{\"marker\":{\"colorbar\":{\"outlinewidth\":0,\"ticks\":\"\"}},\"type\":\"scatterpolar\"}],\"scatterpolargl\":[{\"marker\":{\"colorbar\":{\"outlinewidth\":0,\"ticks\":\"\"}},\"type\":\"scatterpolargl\"}],\"scatterternary\":[{\"marker\":{\"colorbar\":{\"outlinewidth\":0,\"ticks\":\"\"}},\"type\":\"scatterternary\"}],\"surface\":[{\"colorbar\":{\"outlinewidth\":0,\"ticks\":\"\"},\"colorscale\":[[0.0,\"#0d0887\"],[0.1111111111111111,\"#46039f\"],[0.2222222222222222,\"#7201a8\"],[0.3333333333333333,\"#9c179e\"],[0.4444444444444444,\"#bd3786\"],[0.5555555555555556,\"#d8576b\"],[0.6666666666666666,\"#ed7953\"],[0.7777777777777778,\"#fb9f3a\"],[0.8888888888888888,\"#fdca26\"],[1.0,\"#f0f921\"]],\"type\":\"surface\"}],\"table\":[{\"cells\":{\"fill\":{\"color\":\"#EBF0F8\"},\"line\":{\"color\":\"white\"}},\"header\":{\"fill\":{\"color\":\"#C8D4E3\"},\"line\":{\"color\":\"white\"}},\"type\":\"table\"}]},\"layout\":{\"annotationdefaults\":{\"arrowcolor\":\"#2a3f5f\",\"arrowhead\":0,\"arrowwidth\":1},\"autotypenumbers\":\"strict\",\"coloraxis\":{\"colorbar\":{\"outlinewidth\":0,\"ticks\":\"\"}},\"colorscale\":{\"diverging\":[[0,\"#8e0152\"],[0.1,\"#c51b7d\"],[0.2,\"#de77ae\"],[0.3,\"#f1b6da\"],[0.4,\"#fde0ef\"],[0.5,\"#f7f7f7\"],[0.6,\"#e6f5d0\"],[0.7,\"#b8e186\"],[0.8,\"#7fbc41\"],[0.9,\"#4d9221\"],[1,\"#276419\"]],\"sequential\":[[0.0,\"#0d0887\"],[0.1111111111111111,\"#46039f\"],[0.2222222222222222,\"#7201a8\"],[0.3333333333333333,\"#9c179e\"],[0.4444444444444444,\"#bd3786\"],[0.5555555555555556,\"#d8576b\"],[0.6666666666666666,\"#ed7953\"],[0.7777777777777778,\"#fb9f3a\"],[0.8888888888888888,\"#fdca26\"],[1.0,\"#f0f921\"]],\"sequentialminus\":[[0.0,\"#0d0887\"],[0.1111111111111111,\"#46039f\"],[0.2222222222222222,\"#7201a8\"],[0.3333333333333333,\"#9c179e\"],[0.4444444444444444,\"#bd3786\"],[0.5555555555555556,\"#d8576b\"],[0.6666666666666666,\"#ed7953\"],[0.7777777777777778,\"#fb9f3a\"],[0.8888888888888888,\"#fdca26\"],[1.0,\"#f0f921\"]]},\"colorway\":[\"#636efa\",\"#EF553B\",\"#00cc96\",\"#ab63fa\",\"#FFA15A\",\"#19d3f3\",\"#FF6692\",\"#B6E880\",\"#FF97FF\",\"#FECB52\"],\"font\":{\"color\":\"#2a3f5f\"},\"geo\":{\"bgcolor\":\"white\",\"lakecolor\":\"white\",\"landcolor\":\"#E5ECF6\",\"showlakes\":true,\"showland\":true,\"subunitcolor\":\"white\"},\"hoverlabel\":{\"align\":\"left\"},\"hovermode\":\"closest\",\"mapbox\":{\"style\":\"light\"},\"paper_bgcolor\":\"white\",\"plot_bgcolor\":\"#E5ECF6\",\"polar\":{\"angularaxis\":{\"gridcolor\":\"white\",\"linecolor\":\"white\",\"ticks\":\"\"},\"bgcolor\":\"#E5ECF6\",\"radialaxis\":{\"gridcolor\":\"white\",\"linecolor\":\"white\",\"ticks\":\"\"}},\"scene\":{\"xaxis\":{\"backgroundcolor\":\"#E5ECF6\",\"gridcolor\":\"white\",\"gridwidth\":2,\"linecolor\":\"white\",\"showbackground\":true,\"ticks\":\"\",\"zerolinecolor\":\"white\"},\"yaxis\":{\"backgroundcolor\":\"#E5ECF6\",\"gridcolor\":\"white\",\"gridwidth\":2,\"linecolor\":\"white\",\"showbackground\":true,\"ticks\":\"\",\"zerolinecolor\":\"white\"},\"zaxis\":{\"backgroundcolor\":\"#E5ECF6\",\"gridcolor\":\"white\",\"gridwidth\":2,\"linecolor\":\"white\",\"showbackground\":true,\"ticks\":\"\",\"zerolinecolor\":\"white\"}},\"shapedefaults\":{\"line\":{\"color\":\"#2a3f5f\"}},\"ternary\":{\"aaxis\":{\"gridcolor\":\"white\",\"linecolor\":\"white\",\"ticks\":\"\"},\"baxis\":{\"gridcolor\":\"white\",\"linecolor\":\"white\",\"ticks\":\"\"},\"bgcolor\":\"#E5ECF6\",\"caxis\":{\"gridcolor\":\"white\",\"linecolor\":\"white\",\"ticks\":\"\"}},\"title\":{\"x\":0.05},\"xaxis\":{\"automargin\":true,\"gridcolor\":\"white\",\"linecolor\":\"white\",\"ticks\":\"\",\"title\":{\"standoff\":15},\"zerolinecolor\":\"white\",\"zerolinewidth\":2},\"yaxis\":{\"automargin\":true,\"gridcolor\":\"white\",\"linecolor\":\"white\",\"ticks\":\"\",\"title\":{\"standoff\":15},\"zerolinecolor\":\"white\",\"zerolinewidth\":2}}},\"scene\":{\"domain\":{\"x\":[0.0,1.0],\"y\":[0.0,1.0]},\"xaxis\":{\"title\":{\"text\":\"win_rate\"}},\"yaxis\":{\"title\":{\"text\":\"rng_agg\"}},\"zaxis\":{\"title\":{\"text\":\"price\"}}},\"legend\":{\"title\":{\"text\":\"stats_decent\"},\"tracegroupgap\":0},\"margin\":{\"t\":60}},                        {\"responsive\": true}                    ).then(function(){\n",
       "                            \n",
       "var gd = document.getElementById('9e12c3a7-eefc-4c55-9363-c525df1db35e');\n",
       "var x = new MutationObserver(function (mutations, observer) {{\n",
       "        var display = window.getComputedStyle(gd).display;\n",
       "        if (!display || display === 'none') {{\n",
       "            console.log([gd, 'removed!']);\n",
       "            Plotly.purge(gd);\n",
       "            observer.disconnect();\n",
       "        }}\n",
       "}});\n",
       "\n",
       "// Listen for the removal of the full notebook cells\n",
       "var notebookContainer = gd.closest('#notebook-container');\n",
       "if (notebookContainer) {{\n",
       "    x.observe(notebookContainer, {childList: true});\n",
       "}}\n",
       "\n",
       "// Listen for the clearing of the current output cell\n",
       "var outputEl = gd.closest('.output');\n",
       "if (outputEl) {{\n",
       "    x.observe(outputEl, {childList: true});\n",
       "}}\n",
       "\n",
       "                        })                };                });            </script>        </div>"
      ]
     },
     "metadata": {},
     "output_type": "display_data"
    }
   ],
   "source": [
    "import plotly.express as px\n",
    "\n",
    "y = df['rng_agg']\n",
    "x = df['win_rate']\n",
    "z = df['price']\n",
    "fig = px.scatter_3d(test, x='win_rate', y='rng_agg', z='price', color='stats_decent')\n",
    "fig.show()"
   ]
  },
  {
   "cell_type": "markdown",
   "id": "5ffacb38",
   "metadata": {},
   "source": [
    "# Price analysis for different segments "
   ]
  },
  {
   "cell_type": "markdown",
   "id": "92b7fea4",
   "metadata": {},
   "source": [
    "### Less than 19% win rate"
   ]
  },
  {
   "cell_type": "code",
   "execution_count": 117,
   "id": "a112398c",
   "metadata": {},
   "outputs": [],
   "source": [
    "wr = win_rate1.sort_values(by=['price'])\n",
    "# wr['price'].plot()\n",
    "\n",
    "# print(\"Minimum price: {}\".format(wr['price'].min()))\n",
    "# print(\"Maximum price: {}\".format(wr['price'].max()))\n",
    "# print(\"Mean price: {:.2f}\".format(wr['price'].mean()))\n",
    "# print(\"Median price: {}\".format(wr['price'].median()))"
   ]
  },
  {
   "cell_type": "markdown",
   "id": "5788f3b9",
   "metadata": {},
   "source": [
    "### Win rate between 20% to 30%"
   ]
  },
  {
   "cell_type": "code",
   "execution_count": 118,
   "id": "f2548a03",
   "metadata": {},
   "outputs": [
    {
     "name": "stdout",
     "output_type": "stream",
     "text": [
      "Minimum price: 650.0\n",
      "Maximum price: 1000000.0\n",
      "Mean price: 5217.37\n",
      "Median price: 1039.0\n"
     ]
    }
   ],
   "source": [
    "wr = win_rate2.sort_values(by=['price'])\n",
    "# wr['price'].plot()\n",
    "\n",
    "print(\"Minimum price: {}\".format(wr['price'].min()))\n",
    "print(\"Maximum price: {}\".format(wr['price'].max()))\n",
    "print(\"Mean price: {:.2f}\".format(wr['price'].mean()))\n",
    "print(\"Median price: {}\".format(wr['price'].median()))"
   ]
  },
  {
   "cell_type": "markdown",
   "id": "ef9c8121",
   "metadata": {},
   "source": [
    "### Win rate between 30% to 40% "
   ]
  },
  {
   "cell_type": "code",
   "execution_count": null,
   "id": "6f3f5211",
   "metadata": {},
   "outputs": [],
   "source": [
    "wr = win_rate3.sort_values(by=['price'])\n",
    "# wr['price'].plot()\n",
    "\n",
    "print(\"Minimum price: {}\".format(wr['price'].min()))\n",
    "print(\"Maximum price: {}\".format(wr['price'].max()))\n",
    "print(\"Mean price: {:.2f}\".format(wr['price'].mean()))\n",
    "print(\"Median price: {}\".format(wr['price'].median()))"
   ]
  },
  {
   "cell_type": "markdown",
   "id": "c8b4e2d9",
   "metadata": {},
   "source": [
    "### Win rate between 40% to 50%"
   ]
  },
  {
   "cell_type": "code",
   "execution_count": null,
   "id": "161ec1c1",
   "metadata": {},
   "outputs": [],
   "source": [
    "wr = win_rate4.sort_values(by=['price'])\n",
    "# wr['price'].plot()\n",
    "\n",
    "print(\"Minimum price: {}\".format(wr['price'].min()))\n",
    "print(\"Maximum price: {}\".format(wr['price'].max()))\n",
    "print(\"Mean price: {:.2f}\".format(wr['price'].mean()))\n",
    "print(\"Median price: {}\".format(wr['price'].median()))"
   ]
  },
  {
   "cell_type": "markdown",
   "id": "1581baa6",
   "metadata": {},
   "source": [
    "### Win rate greater than 50%"
   ]
  },
  {
   "cell_type": "code",
   "execution_count": null,
   "id": "73b94b25",
   "metadata": {},
   "outputs": [],
   "source": [
    "wr = win_rate5.sort_values(by=['price'])\n",
    "# wr['price'].plot()\n",
    "\n",
    "print(\"Minimum price: {}\".format(wr['price'].min()))\n",
    "print(\"Maximum price: {}\".format(wr['price'].max()))\n",
    "print(\"Mean price: {:.2f}\".format(wr['price'].mean()))\n",
    "print(\"Median price: {}\".format(wr['price'].median()))"
   ]
  },
  {
   "cell_type": "code",
   "execution_count": null,
   "id": "e9e30744",
   "metadata": {},
   "outputs": [],
   "source": [
    "# win_rate2[win_rate2['price'] == 610000]"
   ]
  },
  {
   "cell_type": "code",
   "execution_count": null,
   "id": "1f63e84e",
   "metadata": {},
   "outputs": [],
   "source": [
    "test = df[df['price'] <= 3000]\n",
    "test = test.sort_values(by=['win_rate'], ascending=False).head(20) \n",
    "# test = test.sort_values(by=['win_rate'], ascending=False)\n",
    "print(test.head())\n"
   ]
  },
  {
   "cell_type": "code",
   "execution_count": null,
   "id": "fbc579e2",
   "metadata": {},
   "outputs": [],
   "source": [
    "plt.scatter(win_rate1['win_rate'], win_rate1['price'])\n",
    "plt.show()\n",
    "\n",
    "plt.scatter(win_rate2['win_rate'], win_rate2['price'])\n",
    "plt.show()\n",
    "\n",
    "plt.scatter(win_rate3['win_rate'], win_rate3['price'])\n",
    "plt.show()\n",
    "\n",
    "plt.scatter(win_rate4['win_rate'], win_rate4['price'])\n",
    "plt.show()\n",
    "\n",
    "plt.scatter(win_rate5['win_rate'], win_rate5['price'])\n",
    "plt.show()\n",
    "\n",
    "\n",
    "# plt.scatter(test['stats_mean'], test['win_rate'])\n",
    "# plt.show()\n",
    "\n",
    "\n",
    "# plt.scatter(test['price'], test['all_stats_mean'])\n",
    "# plt.show()\n",
    "\n",
    "plt.scatter(test['price'], test['rng_mean'])\n",
    "plt.show()"
   ]
  },
  {
   "cell_type": "code",
   "execution_count": null,
   "id": "cbb1b7ee",
   "metadata": {},
   "outputs": [],
   "source": []
  }
 ],
 "metadata": {
  "kernelspec": {
   "display_name": "Python 3 (ipykernel)",
   "language": "python",
   "name": "python3"
  },
  "language_info": {
   "codemirror_mode": {
    "name": "ipython",
    "version": 3
   },
   "file_extension": ".py",
   "mimetype": "text/x-python",
   "name": "python",
   "nbconvert_exporter": "python",
   "pygments_lexer": "ipython3",
   "version": "3.10.0"
  }
 },
 "nbformat": 4,
 "nbformat_minor": 5
}
