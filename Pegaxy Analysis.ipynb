{
 "cells": [
  {
   "cell_type": "code",
   "execution_count": 23,
   "id": "f138da1b-47f5-4b68-8f6c-147fcb21497a",
   "metadata": {},
   "outputs": [],
   "source": [
    "# from alive_progress import alive_bar\n",
    "# from fake_useragent import UserAgent\n",
    "from json import JSONDecodeError\n",
    "from datetime import datetime\n",
    "from functools import reduce\n",
    "from random import randint\n",
    "from random import seed\n",
    "import requests\n",
    "import pandas as pd\n",
    "import random\n",
    "import timeit\n",
    "import time\n",
    "\n",
    "import numpy as np\n",
    "import pickle\n",
    "import urllib\n",
    "\n",
    "import pickle\n",
    "import json\n",
    "import os\n",
    "import math\n",
    "import asyncio\n",
    "from urllib.error import HTTPError\n",
    "import aiohttp\n",
    "import platform\n",
    "from datetime import datetime\n",
    "import requests\n",
    "import statistics\n",
    "from aiohttp import ClientSession\n",
    "import matplotlib.pyplot as plt"
   ]
  },
  {
   "cell_type": "code",
   "execution_count": 241,
   "id": "e5c8af8c",
   "metadata": {},
   "outputs": [],
   "source": [
    "class PegaxyExtractor:\n",
    "\n",
    "    def __init__(self):\n",
    "        self.data = []\n",
    "        self.filename = 'all_pegas {}.pkl'.format(datetime.now().strftime(\"%Y%m%d\"))\n",
    "\n",
    "        self.url1 = \"\"\n",
    "        self.url2 = \"\"\n",
    "        self.url3 = \"\"\n",
    "        \n",
    "#         ua = UserAgent()\n",
    "        # header = {'User-Agent':str(ua.firefox)}\n",
    "        # ua.random\n",
    "\n",
    "        user_agent_list = [\n",
    "            'Mozilla/5.0 (Macintosh; Intel Mac OS X 10_15_5) AppleWebKit/605.1.15 (KHTML, like Gecko) Version/13.1.1 Safari/605.1.15',\n",
    "            'Mozilla/5.0 (Windows NT 10.0; Win64; x64; rv:77.0) Gecko/20100101 Firefox/77.0',\n",
    "            'Mozilla/5.0 (Macintosh; Intel Mac OS X 10_15_5) AppleWebKit/537.36 (KHTML, like Gecko) Chrome/83.0.4103.97 Safari/537.36',\n",
    "            'Mozilla/5.0 (Macintosh; Intel Mac OS X 10.15; rv:77.0) Gecko/20100101 Firefox/77.0',\n",
    "            'Mozilla/5.0 (Windows NT 10.0; Win64; x64) AppleWebKit/537.36 (KHTML, like Gecko) Chrome/83.0.4103.97 Safari/537.36',\n",
    "#             ua.chrome,\n",
    "#             ua.firefox\n",
    "        ]\n",
    "\n",
    "    def get_count(self):\n",
    "        r = requests.get(\"https://api-apollo.pegaxy.io/v1/game-api/market/pegasListing/{id}?&marketType=FixedPrice&currency=0xc2132D05D31c914a87C6611C10748AEb04B58e8F&breedFrom=0&breedTo=7\")\n",
    "        print(\"Getting {} Pegas, {} pages\".format(r.json()['total'], math.ceil(r.json()['total'] / 12)))\n",
    "        return math.ceil(r.json()['total'] / 12)\n",
    "    def transform(self, data):\n",
    "        pega_details = []\n",
    "\n",
    "        for iteration in data:\n",
    "            for pega in iteration:\n",
    "                pega_details.append(pega)\n",
    "        \n",
    "        self.save(pega_details)\n",
    "\n",
    "    def save(self, data, filename=None):\n",
    "        if filename is None:\n",
    "            filename = self.filename\n",
    "\n",
    "        file = open(filename, 'wb')\n",
    "        pickle.dump(data, file)\n",
    "    def load(self, filename=None):\n",
    "        if filename is None:\n",
    "            filename = self.filename\n",
    "        with open(filename, 'rb') as f:\n",
    "            print(filename)\n",
    "            pega_details = pickle.load(f) \n",
    "        return pega_details\n",
    "\n",
    "    async def get_pega(\n",
    "        self,\n",
    "        session: aiohttp.ClientSession,\n",
    "        id: int,\n",
    "        **kwargs\n",
    "    ) -> dict:        \n",
    "        url = f\"https://api-apollo.pegaxy.io/v1/game-api/market/listing/{id}\"\n",
    "        # url = f\"https://api-apollo.pegaxy.io/v1/game-api/pega/{id}\"\n",
    "        response = await session.request('GET', url=url, **kwargs)\n",
    "        details = await response.json()\n",
    "        return details\n",
    "    async def get_market_pegas(\n",
    "        self,\n",
    "        session: aiohttp.ClientSession,\n",
    "        id: int,\n",
    "        **kwargs\n",
    "    ) -> dict:\n",
    "\n",
    "        url = f\"https://api-apollo.pegaxy.io/v1/game-api/market/pegasListing/{id}?&marketType=FixedPrice&currency=0xc2132D05D31c914a87C6611C10748AEb04B58e8F&breedFrom=0&breedTo=7\"\n",
    "\n",
    "        response = await session.request('GET', url=url, **kwargs)\n",
    "        # Note that this may raise an exception for non-2xx responses\n",
    "        # You can either handle that here, or pass the exception through\n",
    "        data = await response.json()\n",
    "\n",
    "        return data['market']        \n",
    "\n",
    "    async def start(self, pages):\n",
    "        async with ClientSession() as session:\n",
    "            tasks = [] \n",
    "\n",
    "            for i in range(pages):\n",
    "                tasks.append(self.get_market_pegas(session=session, id=i))\n",
    "\n",
    "            data = await asyncio.gather(*tasks, return_exceptions=True)\n",
    "            self.transform(data)\n",
    "    async def get_deets(self):\n",
    "        async with ClientSession() as session:\n",
    "            tasks = [] \n",
    "\n",
    "            pegas = self.load()\n",
    "\n",
    "            for pega in pegas:\n",
    "                tasks.append(self.get_pega(session=session, id=pega['id']))\n",
    "\n",
    "            data = await asyncio.gather(*tasks, return_exceptions=True)\n",
    "            self.save(data)\n"
   ]
  },
  {
   "cell_type": "code",
   "execution_count": 335,
   "id": "e445ce38",
   "metadata": {},
   "outputs": [
    {
     "name": "stdout",
     "output_type": "stream",
     "text": [
      "all_pegas 20220216.pkl\n"
     ]
    }
   ],
   "source": [
    "# Start Transformation\n",
    "if __name__ == '__main__':\n",
    "    ext = PegaxyExtractor()\n",
    "    \n",
    "# pegas = ext.load('all_pegas 20220213.pkl')\n",
    "pegas = ext.load()\n",
    "for pega in pegas:\n",
    "    if 'message' not in pega:\n",
    "        pega['id'] = pega['listing']['id']      \n",
    "        pega['nftId'] = pega['nft']['id']      \n",
    "        pega['ownerId'] = pega['nft']['ownerId']\n",
    "#         pega['nftAddress'] = pega['listing']['nft']\n",
    "        \n",
    "        if 'nft' in pega and 'total_races' in pega['nft'] and pega['nft']['total_races'] != 0:\n",
    "            win_rate = \"{:.2f}\".format((pega['nft']['win'] / pega['nft']['total_races'])*100)\n",
    "            pega['win_rate'] = win_rate \n",
    "        if 'price' in pega['listing']:\n",
    "            pega['price'] = \"{:}\".format(int(pega['listing']['price'])/1000000)\n",
    "        if  math.floor(pega['nft']['speed']) > 0 and math.floor(pega['nft']['strength']) > 0 and math.floor(pega['nft']['wind']) > 0 and \\\n",
    "            math.floor(pega['nft']['water']) > 0 and math.floor(pega['nft']['fire']) > 0 and math.floor(pega['nft']['lighting']) > 0:\n",
    "            pega['stats_decent'] = True\n",
    "        else:\n",
    "            pega['stats_decent'] = False\n",
    "        \n",
    "        \n",
    "        stats_agg = statistics.fmean([pega['nft']['speed'], pega['nft']['strength'], pega['nft']['wind'], pega['nft']['water'], pega['nft']['fire'], pega['nft']['lighting']])\n",
    "        pega['stats_agg'] = \"{:.2f}\".format(stats_agg)\n",
    "            \n",
    "        rng_agg = statistics.fmean([pega['nft']['wind'], pega['nft']['water'], pega['nft']['fire'], pega['nft']['lighting']])\n",
    "        pega['rng_agg'] = \"{:.2f}\".format(rng_agg)\n",
    "        \n",
    "        pega['speed'] = pega['nft']['speed']\n",
    "        pega['strength'] = pega['nft']['strength']\n",
    "        pega['lightning'] = pega['nft']['lighting']\n",
    "        pega['wind'] = pega['nft']['wind'] \n",
    "        pega['water'] = pega['nft']['water']\n",
    "        pega['fire'] = pega['nft']['fire']\n",
    "        pega['wins'] = pega['nft']['win']\n",
    "        pega['loss'] = pega['nft']['lose']\n",
    "        pega['total_races'] = pega['nft']['total_races']\n",
    "        pega['breedTime'] = pega['nft']['breedTime']\n",
    "        pega['owner'] = pega['listing']['owner']['address']\n",
    "        pega['name'] = pega['nft']['name']\n",
    "        pega['bloodline'] = pega['nft']['bloodLine']\n",
    "        pega['breedType'] = pega['nft']['breedType']        \n",
    "        pega['inService'] = pega['nft']['inService']\n",
    "        pega['gender'] = pega['nft']['gender']\n"
   ]
  },
  {
   "cell_type": "code",
   "execution_count": 336,
   "id": "60c988e7",
   "metadata": {},
   "outputs": [
    {
     "data": {
      "text/html": [
       "<div>\n",
       "<style scoped>\n",
       "    .dataframe tbody tr th:only-of-type {\n",
       "        vertical-align: middle;\n",
       "    }\n",
       "\n",
       "    .dataframe tbody tr th {\n",
       "        vertical-align: top;\n",
       "    }\n",
       "\n",
       "    .dataframe thead th {\n",
       "        text-align: right;\n",
       "    }\n",
       "</style>\n",
       "<table border=\"1\" class=\"dataframe\">\n",
       "  <thead>\n",
       "    <tr style=\"text-align: right;\">\n",
       "      <th></th>\n",
       "      <th>name</th>\n",
       "      <th>win_rate</th>\n",
       "      <th>price</th>\n",
       "      <th>rng_agg</th>\n",
       "      <th>stats_decent</th>\n",
       "      <th>speed</th>\n",
       "      <th>strength</th>\n",
       "      <th>lightning</th>\n",
       "      <th>wind</th>\n",
       "      <th>water</th>\n",
       "      <th>fire</th>\n",
       "      <th>stats_agg</th>\n",
       "      <th>breedTime</th>\n",
       "      <th>wins</th>\n",
       "      <th>loss</th>\n",
       "      <th>total_races</th>\n",
       "    </tr>\n",
       "    <tr>\n",
       "      <th>id</th>\n",
       "      <th></th>\n",
       "      <th></th>\n",
       "      <th></th>\n",
       "      <th></th>\n",
       "      <th></th>\n",
       "      <th></th>\n",
       "      <th></th>\n",
       "      <th></th>\n",
       "      <th></th>\n",
       "      <th></th>\n",
       "      <th></th>\n",
       "      <th></th>\n",
       "      <th></th>\n",
       "      <th></th>\n",
       "      <th></th>\n",
       "      <th></th>\n",
       "    </tr>\n",
       "  </thead>\n",
       "  <tbody>\n",
       "    <tr>\n",
       "      <th>52651</th>\n",
       "      <td>red</td>\n",
       "      <td>78.75</td>\n",
       "      <td>649000.0</td>\n",
       "      <td>6.59</td>\n",
       "      <td>True</td>\n",
       "      <td>6.69</td>\n",
       "      <td>5.96</td>\n",
       "      <td>7.22</td>\n",
       "      <td>3.17</td>\n",
       "      <td>8.46</td>\n",
       "      <td>7.52</td>\n",
       "      <td>6.50</td>\n",
       "      <td>0.0</td>\n",
       "      <td>278.0</td>\n",
       "      <td>75.0</td>\n",
       "      <td>353.0</td>\n",
       "    </tr>\n",
       "    <tr>\n",
       "      <th>11211</th>\n",
       "      <td>Mirage</td>\n",
       "      <td>67.62</td>\n",
       "      <td>24000.0</td>\n",
       "      <td>4.81</td>\n",
       "      <td>False</td>\n",
       "      <td>2.19</td>\n",
       "      <td>7.30</td>\n",
       "      <td>4.10</td>\n",
       "      <td>6.93</td>\n",
       "      <td>7.27</td>\n",
       "      <td>0.95</td>\n",
       "      <td>4.79</td>\n",
       "      <td>0.0</td>\n",
       "      <td>213.0</td>\n",
       "      <td>102.0</td>\n",
       "      <td>315.0</td>\n",
       "    </tr>\n",
       "    <tr>\n",
       "      <th>88832</th>\n",
       "      <td>Shiny Pegasus</td>\n",
       "      <td>54.17</td>\n",
       "      <td>99000.0</td>\n",
       "      <td>5.55</td>\n",
       "      <td>True</td>\n",
       "      <td>5.86</td>\n",
       "      <td>5.54</td>\n",
       "      <td>6.59</td>\n",
       "      <td>7.56</td>\n",
       "      <td>6.70</td>\n",
       "      <td>1.35</td>\n",
       "      <td>5.60</td>\n",
       "      <td>0.0</td>\n",
       "      <td>143.0</td>\n",
       "      <td>121.0</td>\n",
       "      <td>264.0</td>\n",
       "    </tr>\n",
       "    <tr>\n",
       "      <th>180464</th>\n",
       "      <td>JAWADQ83</td>\n",
       "      <td>52.00</td>\n",
       "      <td>5500.0</td>\n",
       "      <td>6.26</td>\n",
       "      <td>True</td>\n",
       "      <td>7.54</td>\n",
       "      <td>7.72</td>\n",
       "      <td>4.60</td>\n",
       "      <td>5.29</td>\n",
       "      <td>8.53</td>\n",
       "      <td>6.64</td>\n",
       "      <td>6.72</td>\n",
       "      <td>0.0</td>\n",
       "      <td>13.0</td>\n",
       "      <td>12.0</td>\n",
       "      <td>25.0</td>\n",
       "    </tr>\n",
       "    <tr>\n",
       "      <th>108689</th>\n",
       "      <td>Hoz Light Speed</td>\n",
       "      <td>48.55</td>\n",
       "      <td>35000.0</td>\n",
       "      <td>4.01</td>\n",
       "      <td>False</td>\n",
       "      <td>3.84</td>\n",
       "      <td>8.20</td>\n",
       "      <td>0.85</td>\n",
       "      <td>6.80</td>\n",
       "      <td>7.57</td>\n",
       "      <td>0.84</td>\n",
       "      <td>4.68</td>\n",
       "      <td>0.0</td>\n",
       "      <td>235.0</td>\n",
       "      <td>249.0</td>\n",
       "      <td>484.0</td>\n",
       "    </tr>\n",
       "  </tbody>\n",
       "</table>\n",
       "</div>"
      ],
      "text/plain": [
       "                   name win_rate     price rng_agg stats_decent  speed  \\\n",
       "id                                                                       \n",
       "52651               red    78.75  649000.0    6.59         True   6.69   \n",
       "11211            Mirage    67.62   24000.0    4.81        False   2.19   \n",
       "88832     Shiny Pegasus    54.17   99000.0    5.55         True   5.86   \n",
       "180464         JAWADQ83    52.00    5500.0    6.26         True   7.54   \n",
       "108689  Hoz Light Speed    48.55   35000.0    4.01        False   3.84   \n",
       "\n",
       "        strength  lightning  wind  water  fire stats_agg  breedTime   wins  \\\n",
       "id                                                                           \n",
       "52651       5.96       7.22  3.17   8.46  7.52      6.50        0.0  278.0   \n",
       "11211       7.30       4.10  6.93   7.27  0.95      4.79        0.0  213.0   \n",
       "88832       5.54       6.59  7.56   6.70  1.35      5.60        0.0  143.0   \n",
       "180464      7.72       4.60  5.29   8.53  6.64      6.72        0.0   13.0   \n",
       "108689      8.20       0.85  6.80   7.57  0.84      4.68        0.0  235.0   \n",
       "\n",
       "         loss  total_races  \n",
       "id                          \n",
       "52651    75.0        353.0  \n",
       "11211   102.0        315.0  \n",
       "88832   121.0        264.0  \n",
       "180464   12.0         25.0  \n",
       "108689  249.0        484.0  "
      ]
     },
     "execution_count": 336,
     "metadata": {},
     "output_type": "execute_result"
    }
   ],
   "source": [
    "df = pd.DataFrame(pegas)\n",
    "# Compute mean stats value\n",
    "# df['win_rate'] = df['win_rate'].astype(float)\n",
    "# df['win_rate'] = df['win_rate'].replace(np.nan, 0)\n",
    "\n",
    "\n",
    "\n",
    "df['id'] = df['id'].apply(str)\n",
    "df['id'] = df['id'].astype(str).apply(lambda x: x.replace('.0',''))\n",
    "df['nftId'] = df['nftId'].astype(str).apply(lambda x: x.replace('.0',''))\n",
    "df['ownerId'] = df['ownerId'].astype(str).apply(lambda x: x.replace('.0',''))\n",
    "\n",
    "df = df.drop(labels=['message', 'status', 'listing', 'nft'], axis=1)\n",
    "\n",
    "df = df.dropna();\n",
    "\n",
    "# column_names = [\"id\", \"name\", \"win_rate\", \"price\", \"rng_agg\", \"stats_decent\", \"speed\", \"strength\", \"lightning\", \"wind\", \"water\", \"fire\", \"stats_agg\", \"breedTime\", \"wins\",\"loss\",\"total_races\", \"bloodline\", \"breedType\", \"inService\", \"gender\", \"nftId\", \"ownerId\", \"owner\", \"nftAddress\"]\n",
    "column_names = [\"id\", \"name\", \"win_rate\", \"price\", \"rng_agg\", \"stats_decent\", \"speed\", \"strength\", \"lightning\", \"wind\", \"water\", \"fire\", \"stats_agg\", \"breedTime\", \"wins\",\"loss\",\"total_races\"]\n",
    "df = df.reindex(columns=column_names)\n",
    "\n",
    "df = df.sort_values(by=['win_rate'], ascending=False);\n",
    "# df.reset_index(inplace=True);\n",
    "df.set_index('id', inplace=True)\n",
    "df.round(2)\n",
    "df.head()"
   ]
  },
  {
   "cell_type": "code",
   "execution_count": 337,
   "id": "be6fb358",
   "metadata": {},
   "outputs": [
    {
     "data": {
      "text/plain": [
       "(757, 16)"
      ]
     },
     "execution_count": 337,
     "metadata": {},
     "output_type": "execute_result"
    }
   ],
   "source": [
    "df.shape"
   ]
  },
  {
   "cell_type": "code",
   "execution_count": 338,
   "id": "1bacb2e5",
   "metadata": {},
   "outputs": [
    {
     "data": {
      "text/html": [
       "<div>\n",
       "<style scoped>\n",
       "    .dataframe tbody tr th:only-of-type {\n",
       "        vertical-align: middle;\n",
       "    }\n",
       "\n",
       "    .dataframe tbody tr th {\n",
       "        vertical-align: top;\n",
       "    }\n",
       "\n",
       "    .dataframe thead th {\n",
       "        text-align: right;\n",
       "    }\n",
       "</style>\n",
       "<table border=\"1\" class=\"dataframe\">\n",
       "  <thead>\n",
       "    <tr style=\"text-align: right;\">\n",
       "      <th></th>\n",
       "      <th>name</th>\n",
       "      <th>win_rate</th>\n",
       "      <th>price</th>\n",
       "      <th>rng_agg</th>\n",
       "      <th>stats_decent</th>\n",
       "      <th>speed</th>\n",
       "      <th>strength</th>\n",
       "      <th>lightning</th>\n",
       "      <th>wind</th>\n",
       "      <th>water</th>\n",
       "      <th>fire</th>\n",
       "      <th>stats_agg</th>\n",
       "      <th>breedTime</th>\n",
       "      <th>wins</th>\n",
       "      <th>loss</th>\n",
       "      <th>total_races</th>\n",
       "    </tr>\n",
       "    <tr>\n",
       "      <th>id</th>\n",
       "      <th></th>\n",
       "      <th></th>\n",
       "      <th></th>\n",
       "      <th></th>\n",
       "      <th></th>\n",
       "      <th></th>\n",
       "      <th></th>\n",
       "      <th></th>\n",
       "      <th></th>\n",
       "      <th></th>\n",
       "      <th></th>\n",
       "      <th></th>\n",
       "      <th></th>\n",
       "      <th></th>\n",
       "      <th></th>\n",
       "      <th></th>\n",
       "    </tr>\n",
       "  </thead>\n",
       "  <tbody>\n",
       "    <tr>\n",
       "      <th>179624</th>\n",
       "      <td>Marian O'Conner</td>\n",
       "      <td>44.52</td>\n",
       "      <td>3499.0</td>\n",
       "      <td>6.79</td>\n",
       "      <td>False</td>\n",
       "      <td>0.93</td>\n",
       "      <td>6.86</td>\n",
       "      <td>6.01</td>\n",
       "      <td>5.30</td>\n",
       "      <td>8.64</td>\n",
       "      <td>7.21</td>\n",
       "      <td>5.83</td>\n",
       "      <td>3.0</td>\n",
       "      <td>191.0</td>\n",
       "      <td>238.0</td>\n",
       "      <td>429.0</td>\n",
       "    </tr>\n",
       "    <tr>\n",
       "      <th>181521</th>\n",
       "      <td>シュタインズ・ゲート</td>\n",
       "      <td>41.28</td>\n",
       "      <td>1999.0</td>\n",
       "      <td>5.28</td>\n",
       "      <td>False</td>\n",
       "      <td>3.85</td>\n",
       "      <td>0.92</td>\n",
       "      <td>4.25</td>\n",
       "      <td>4.18</td>\n",
       "      <td>6.90</td>\n",
       "      <td>5.78</td>\n",
       "      <td>4.31</td>\n",
       "      <td>3.0</td>\n",
       "      <td>284.0</td>\n",
       "      <td>404.0</td>\n",
       "      <td>688.0</td>\n",
       "    </tr>\n",
       "    <tr>\n",
       "      <th>180092</th>\n",
       "      <td>Baba Yaga | 168</td>\n",
       "      <td>40.24</td>\n",
       "      <td>1249.0</td>\n",
       "      <td>6.62</td>\n",
       "      <td>False</td>\n",
       "      <td>0.24</td>\n",
       "      <td>1.39</td>\n",
       "      <td>2.77</td>\n",
       "      <td>8.94</td>\n",
       "      <td>8.12</td>\n",
       "      <td>6.64</td>\n",
       "      <td>4.68</td>\n",
       "      <td>3.0</td>\n",
       "      <td>66.0</td>\n",
       "      <td>98.0</td>\n",
       "      <td>164.0</td>\n",
       "    </tr>\n",
       "    <tr>\n",
       "      <th>176406</th>\n",
       "      <td>CNC 412</td>\n",
       "      <td>38.69</td>\n",
       "      <td>1699.0</td>\n",
       "      <td>6.17</td>\n",
       "      <td>False</td>\n",
       "      <td>0.22</td>\n",
       "      <td>7.43</td>\n",
       "      <td>8.53</td>\n",
       "      <td>5.96</td>\n",
       "      <td>6.06</td>\n",
       "      <td>4.14</td>\n",
       "      <td>5.39</td>\n",
       "      <td>2.0</td>\n",
       "      <td>65.0</td>\n",
       "      <td>103.0</td>\n",
       "      <td>168.0</td>\n",
       "    </tr>\n",
       "    <tr>\n",
       "      <th>179447</th>\n",
       "      <td>H_303 | Wick x VIP</td>\n",
       "      <td>38.51</td>\n",
       "      <td>1800.0</td>\n",
       "      <td>5.66</td>\n",
       "      <td>False</td>\n",
       "      <td>1.36</td>\n",
       "      <td>0.75</td>\n",
       "      <td>7.73</td>\n",
       "      <td>5.12</td>\n",
       "      <td>8.99</td>\n",
       "      <td>0.81</td>\n",
       "      <td>4.13</td>\n",
       "      <td>3.0</td>\n",
       "      <td>62.0</td>\n",
       "      <td>99.0</td>\n",
       "      <td>161.0</td>\n",
       "    </tr>\n",
       "  </tbody>\n",
       "</table>\n",
       "</div>"
      ],
      "text/plain": [
       "                      name win_rate   price rng_agg stats_decent  speed  \\\n",
       "id                                                                        \n",
       "179624     Marian O'Conner    44.52  3499.0    6.79        False   0.93   \n",
       "181521          シュタインズ・ゲート    41.28  1999.0    5.28        False   3.85   \n",
       "180092     Baba Yaga | 168    40.24  1249.0    6.62        False   0.24   \n",
       "176406             CNC 412    38.69  1699.0    6.17        False   0.22   \n",
       "179447  H_303 | Wick x VIP    38.51  1800.0    5.66        False   1.36   \n",
       "\n",
       "        strength  lightning  wind  water  fire stats_agg  breedTime   wins  \\\n",
       "id                                                                           \n",
       "179624      6.86       6.01  5.30   8.64  7.21      5.83        3.0  191.0   \n",
       "181521      0.92       4.25  4.18   6.90  5.78      4.31        3.0  284.0   \n",
       "180092      1.39       2.77  8.94   8.12  6.64      4.68        3.0   66.0   \n",
       "176406      7.43       8.53  5.96   6.06  4.14      5.39        2.0   65.0   \n",
       "179447      0.75       7.73  5.12   8.99  0.81      4.13        3.0   62.0   \n",
       "\n",
       "         loss  total_races  \n",
       "id                          \n",
       "179624  238.0        429.0  \n",
       "181521  404.0        688.0  \n",
       "180092   98.0        164.0  \n",
       "176406  103.0        168.0  \n",
       "179447   99.0        161.0  "
      ]
     },
     "execution_count": 338,
     "metadata": {},
     "output_type": "execute_result"
    }
   ],
   "source": [
    "df['price'] = df['price'].astype(float)\n",
    "test = df[(df['price'] <= 5000) & (df['total_races'] >= 100)]\n",
    "test = test[test['stats_decent'] == False].sort_values(by=['win_rate'], ascending=False)\n",
    "test.head()\n",
    "# df = df.dropna();\n",
    "# df[df['win_rate'] == 0]\n",
    "# df.shape;\n",
    "\n",
    "# df = df[(df['price'] <= 1300) & (df['breedTime'] == 0)]\n",
    "# df = df.sort_values(by=['rng_mean'], ascending=False);\n",
    "# df.head()\n",
    "\n"
   ]
  },
  {
   "cell_type": "markdown",
   "id": "e67d60ce",
   "metadata": {},
   "source": [
    "# Win Rate Analysis"
   ]
  },
  {
   "cell_type": "code",
   "execution_count": 136,
   "id": "d89bb2a4",
   "metadata": {},
   "outputs": [],
   "source": [
    "win_rate1 = df[df['win_rate'] < 19]\n",
    "win_rate2 = df[(df['win_rate'] > 19) & (df['win_rate'] <= 30)]\n",
    "win_rate3 = df[(df['win_rate'] > 30) & (df['win_rate'] <= 40)]\n",
    "win_rate4 = df[(df['win_rate'] > 40) & (df['win_rate'] <= 50)]\n",
    "win_rate5 = df[df['win_rate'] > 50]"
   ]
  },
  {
   "cell_type": "code",
   "execution_count": 137,
   "id": "0f73245a",
   "metadata": {},
   "outputs": [
    {
     "name": "stdout",
     "output_type": "stream",
     "text": [
      "Total pegas for today: 1140\n"
     ]
    }
   ],
   "source": [
    "total = len(win_rate1) + len(win_rate2) + len(win_rate3) + len(win_rate4) + len(win_rate5)\n",
    "print(\"Total pegas for today: {}\".format(total))"
   ]
  },
  {
   "cell_type": "code",
   "execution_count": 138,
   "id": "7bc0bf47",
   "metadata": {},
   "outputs": [
    {
     "name": "stdout",
     "output_type": "stream",
     "text": [
      "Less than 19% --- 35.18%   [401]\n",
      "19% - 30% --- 56.84%   [648]\n",
      "30% - 40% --- 6.40%   [73]\n",
      "40% - 50% --- 1.23%   [14]\n",
      "More than 50% --- 0.35%   [4]\n"
     ]
    },
    {
     "data": {
      "image/png": "[encoded data removed]",
      "text/plain": [
       "<Figure size 432x288 with 1 Axes>"
      ]
     },
     "metadata": {
      "needs_background": "light"
     },
     "output_type": "display_data"
    }
   ],
   "source": [
    "print(\"Less than 19% --- {:.2f}%   [{}]\".format(((len(win_rate1) / total)*100), len(win_rate1)))\n",
    "print(\"19% - 30% --- {:.2f}%   [{}]\".format(((len(win_rate2) / total)*100), len(win_rate2)))\n",
    "print(\"30% - 40% --- {:.2f}%   [{}]\".format(((len(win_rate3) / total)*100), len(win_rate3)))\n",
    "print(\"40% - 50% --- {:.2f}%   [{}]\".format(((len(win_rate4) / total)*100), len(win_rate4)))\n",
    "print(\"More than 50% --- {:.2f}%   [{}]\".format(((len(win_rate5) / total)*100), len(win_rate5)))\n",
    "\n",
    "buckets = ['< 19%','20% - 30%','30% - 40%','40%-50%','> 50%']\n",
    "bucket_counts = [len(win_rate1), len(win_rate2), len(win_rate3), len(win_rate4), len(win_rate5)]\n",
    "\n",
    "fig = plt.figure()\n",
    "ax = fig.add_axes([0,0,1,1])\n",
    "ax.set_title('Count of Pegas by win rate')\n",
    "\n",
    "\n",
    "ax.bar(buckets, bucket_counts)\n",
    "plt.show()"
   ]
  },
  {
   "cell_type": "markdown",
   "id": "067bedbf",
   "metadata": {},
   "source": [
    "# Price analysis for different segments "
   ]
  },
  {
   "cell_type": "markdown",
   "id": "1e38c4a4",
   "metadata": {},
   "source": [
    "### Less than 19% win rate"
   ]
  },
  {
   "cell_type": "code",
   "execution_count": 140,
   "id": "6974d216",
   "metadata": {},
   "outputs": [
    {
     "ename": "TypeError",
     "evalue": "no numeric data to plot",
     "output_type": "error",
     "traceback": [
      "\u001b[1;31m---------------------------------------------------------------------------\u001b[0m",
      "\u001b[1;31mTypeError\u001b[0m                                 Traceback (most recent call last)",
      "Input \u001b[1;32mIn [140]\u001b[0m, in \u001b[0;36m<module>\u001b[1;34m\u001b[0m\n\u001b[0;32m      1\u001b[0m wr \u001b[38;5;241m=\u001b[39m win_rate1\u001b[38;5;241m.\u001b[39msort_values(by\u001b[38;5;241m=\u001b[39m[\u001b[38;5;124m'\u001b[39m\u001b[38;5;124mprice\u001b[39m\u001b[38;5;124m'\u001b[39m])\n\u001b[1;32m----> 2\u001b[0m \u001b[43mwr\u001b[49m\u001b[43m[\u001b[49m\u001b[38;5;124;43m'\u001b[39;49m\u001b[38;5;124;43mprice\u001b[39;49m\u001b[38;5;124;43m'\u001b[39;49m\u001b[43m]\u001b[49m\u001b[38;5;241;43m.\u001b[39;49m\u001b[43mplot\u001b[49m\u001b[43m(\u001b[49m\u001b[43m)\u001b[49m\n",
      "File \u001b[1;32m~\\.conda\\envs\\my_env\\lib\\site-packages\\pandas\\plotting\\_core.py:972\u001b[0m, in \u001b[0;36mPlotAccessor.__call__\u001b[1;34m(self, *args, **kwargs)\u001b[0m\n\u001b[0;32m    969\u001b[0m             label_name \u001b[38;5;241m=\u001b[39m label_kw \u001b[38;5;129;01mor\u001b[39;00m data\u001b[38;5;241m.\u001b[39mcolumns\n\u001b[0;32m    970\u001b[0m             data\u001b[38;5;241m.\u001b[39mcolumns \u001b[38;5;241m=\u001b[39m label_name\n\u001b[1;32m--> 972\u001b[0m \u001b[38;5;28;01mreturn\u001b[39;00m plot_backend\u001b[38;5;241m.\u001b[39mplot(data, kind\u001b[38;5;241m=\u001b[39mkind, \u001b[38;5;241m*\u001b[39m\u001b[38;5;241m*\u001b[39mkwargs)\n",
      "File \u001b[1;32m~\\.conda\\envs\\my_env\\lib\\site-packages\\pandas\\plotting\\_matplotlib\\__init__.py:71\u001b[0m, in \u001b[0;36mplot\u001b[1;34m(data, kind, **kwargs)\u001b[0m\n\u001b[0;32m     69\u001b[0m         kwargs[\u001b[38;5;124m\"\u001b[39m\u001b[38;5;124max\u001b[39m\u001b[38;5;124m\"\u001b[39m] \u001b[38;5;241m=\u001b[39m \u001b[38;5;28mgetattr\u001b[39m(ax, \u001b[38;5;124m\"\u001b[39m\u001b[38;5;124mleft_ax\u001b[39m\u001b[38;5;124m\"\u001b[39m, ax)\n\u001b[0;32m     70\u001b[0m plot_obj \u001b[38;5;241m=\u001b[39m PLOT_CLASSES[kind](data, \u001b[38;5;241m*\u001b[39m\u001b[38;5;241m*\u001b[39mkwargs)\n\u001b[1;32m---> 71\u001b[0m \u001b[43mplot_obj\u001b[49m\u001b[38;5;241;43m.\u001b[39;49m\u001b[43mgenerate\u001b[49m\u001b[43m(\u001b[49m\u001b[43m)\u001b[49m\n\u001b[0;32m     72\u001b[0m plot_obj\u001b[38;5;241m.\u001b[39mdraw()\n\u001b[0;32m     73\u001b[0m \u001b[38;5;28;01mreturn\u001b[39;00m plot_obj\u001b[38;5;241m.\u001b[39mresult\n",
      "File \u001b[1;32m~\\.conda\\envs\\my_env\\lib\\site-packages\\pandas\\plotting\\_matplotlib\\core.py:327\u001b[0m, in \u001b[0;36mMPLPlot.generate\u001b[1;34m(self)\u001b[0m\n\u001b[0;32m    325\u001b[0m \u001b[38;5;28;01mdef\u001b[39;00m \u001b[38;5;21mgenerate\u001b[39m(\u001b[38;5;28mself\u001b[39m):\n\u001b[0;32m    326\u001b[0m     \u001b[38;5;28mself\u001b[39m\u001b[38;5;241m.\u001b[39m_args_adjust()\n\u001b[1;32m--> 327\u001b[0m     \u001b[38;5;28;43mself\u001b[39;49m\u001b[38;5;241;43m.\u001b[39;49m\u001b[43m_compute_plot_data\u001b[49m\u001b[43m(\u001b[49m\u001b[43m)\u001b[49m\n\u001b[0;32m    328\u001b[0m     \u001b[38;5;28mself\u001b[39m\u001b[38;5;241m.\u001b[39m_setup_subplots()\n\u001b[0;32m    329\u001b[0m     \u001b[38;5;28mself\u001b[39m\u001b[38;5;241m.\u001b[39m_make_plot()\n",
      "File \u001b[1;32m~\\.conda\\envs\\my_env\\lib\\site-packages\\pandas\\plotting\\_matplotlib\\core.py:506\u001b[0m, in \u001b[0;36mMPLPlot._compute_plot_data\u001b[1;34m(self)\u001b[0m\n\u001b[0;32m    504\u001b[0m \u001b[38;5;66;03m# no non-numeric frames or series allowed\u001b[39;00m\n\u001b[0;32m    505\u001b[0m \u001b[38;5;28;01mif\u001b[39;00m is_empty:\n\u001b[1;32m--> 506\u001b[0m     \u001b[38;5;28;01mraise\u001b[39;00m \u001b[38;5;167;01mTypeError\u001b[39;00m(\u001b[38;5;124m\"\u001b[39m\u001b[38;5;124mno numeric data to plot\u001b[39m\u001b[38;5;124m\"\u001b[39m)\n\u001b[0;32m    508\u001b[0m \u001b[38;5;28mself\u001b[39m\u001b[38;5;241m.\u001b[39mdata \u001b[38;5;241m=\u001b[39m numeric_data\u001b[38;5;241m.\u001b[39mapply(\u001b[38;5;28mself\u001b[39m\u001b[38;5;241m.\u001b[39m_convert_to_ndarray)\n",
      "\u001b[1;31mTypeError\u001b[0m: no numeric data to plot"
     ]
    }
   ],
   "source": [
    "wr = win_rate1.sort_values(by=['price'])\n",
    "# wr['price'].plot()\n",
    "\n",
    "# print(\"Minimum price: {}\".format(wr['price'].min()))\n",
    "# print(\"Maximum price: {}\".format(wr['price'].max()))\n",
    "# print(\"Mean price: {:.2f}\".format(wr['price'].mean()))\n",
    "# print(\"Median price: {}\".format(wr['price'].median()))"
   ]
  },
  {
   "cell_type": "markdown",
   "id": "eb7d22bc",
   "metadata": {},
   "source": [
    "### Win rate between 20% to 30%"
   ]
  },
  {
   "cell_type": "code",
   "execution_count": 31,
   "id": "450b3edb",
   "metadata": {},
   "outputs": [
    {
     "name": "stdout",
     "output_type": "stream",
     "text": [
      "Minimum price: 933.0\n",
      "Maximum price: 610000.0\n",
      "Mean price: 3375.27\n",
      "Median price: 1250.0\n"
     ]
    }
   ],
   "source": [
    "wr = win_rate2.sort_values(by=['price'])\n",
    "# wr['price'].plot()\n",
    "\n",
    "print(\"Minimum price: {}\".format(wr['price'].min()))\n",
    "print(\"Maximum price: {}\".format(wr['price'].max()))\n",
    "print(\"Mean price: {:.2f}\".format(wr['price'].mean()))\n",
    "print(\"Median price: {}\".format(wr['price'].median()))"
   ]
  },
  {
   "cell_type": "markdown",
   "id": "ff52bd56",
   "metadata": {},
   "source": [
    "### Win rate between 30% to 40% "
   ]
  },
  {
   "cell_type": "code",
   "execution_count": 18,
   "id": "fce081b7",
   "metadata": {},
   "outputs": [
    {
     "name": "stdout",
     "output_type": "stream",
     "text": [
      "Minimum price: 1530.0\n",
      "Maximum price: 100000.0\n",
      "Mean price: 5322.99\n",
      "Median price: 1899.0\n"
     ]
    }
   ],
   "source": [
    "wr = win_rate3.sort_values(by=['price'])\n",
    "# wr['price'].plot()\n",
    "\n",
    "print(\"Minimum price: {}\".format(wr['price'].min()))\n",
    "print(\"Maximum price: {}\".format(wr['price'].max()))\n",
    "print(\"Mean price: {:.2f}\".format(wr['price'].mean()))\n",
    "print(\"Median price: {}\".format(wr['price'].median()))"
   ]
  },
  {
   "cell_type": "markdown",
   "id": "d49968b8",
   "metadata": {},
   "source": [
    "### Win rate between 40% to 50%"
   ]
  },
  {
   "cell_type": "code",
   "execution_count": 19,
   "id": "7cecf818",
   "metadata": {},
   "outputs": [
    {
     "name": "stdout",
     "output_type": "stream",
     "text": [
      "Minimum price: 1999.0\n",
      "Maximum price: 100000.0\n",
      "Mean price: 13479.35\n",
      "Median price: 2997.0\n"
     ]
    }
   ],
   "source": [
    "wr = win_rate4.sort_values(by=['price'])\n",
    "# wr['price'].plot()\n",
    "\n",
    "print(\"Minimum price: {}\".format(wr['price'].min()))\n",
    "print(\"Maximum price: {}\".format(wr['price'].max()))\n",
    "print(\"Mean price: {:.2f}\".format(wr['price'].mean()))\n",
    "print(\"Median price: {}\".format(wr['price'].median()))"
   ]
  },
  {
   "cell_type": "markdown",
   "id": "61cef0c7",
   "metadata": {},
   "source": [
    "### Win rate greater than 50%"
   ]
  },
  {
   "cell_type": "code",
   "execution_count": 20,
   "id": "e683d4bf",
   "metadata": {},
   "outputs": [
    {
     "name": "stdout",
     "output_type": "stream",
     "text": [
      "Minimum price: 24000.0\n",
      "Maximum price: 649000.0\n",
      "Mean price: 257333.33\n",
      "Median price: 99000.0\n"
     ]
    }
   ],
   "source": [
    "wr = win_rate5.sort_values(by=['price'])\n",
    "# wr['price'].plot()\n",
    "\n",
    "print(\"Minimum price: {}\".format(wr['price'].min()))\n",
    "print(\"Maximum price: {}\".format(wr['price'].max()))\n",
    "print(\"Mean price: {:.2f}\".format(wr['price'].mean()))\n",
    "print(\"Median price: {}\".format(wr['price'].median()))"
   ]
  },
  {
   "cell_type": "code",
   "execution_count": 32,
   "id": "72470810",
   "metadata": {},
   "outputs": [],
   "source": [
    "# win_rate2[win_rate2['price'] == 610000]"
   ]
  },
  {
   "cell_type": "code",
   "execution_count": 35,
   "id": "1f63e84e",
   "metadata": {},
   "outputs": [
    {
     "name": "stdout",
     "output_type": "stream",
     "text": [
      "    status                                            listing  \\\n",
      "567   True  {'id': 176702, 'nft': '0xD50D167DD35D256e19E2F...   \n",
      "358   True  {'id': 177890, 'nft': '0xD50D167DD35D256e19E2F...   \n",
      "172   True  {'id': 178472, 'nft': '0xD50D167DD35D256e19E2F...   \n",
      "581   True  {'id': 176592, 'nft': '0xD50D167DD35D256e19E2F...   \n",
      "476   True  {'id': 177207, 'nft': '0xD50D167DD35D256e19E2F...   \n",
      "\n",
      "                                                   nft   price  \\\n",
      "567  {'id': 174199, 'name': 'Sw33t Potato', 'ownerI...  2900.0   \n",
      "358  {'id': 127459, 'name': 'Twiggy Whisperer', 'ow...  3000.0   \n",
      "172  {'id': 170049, 'name': 'I Love You', 'ownerId'...  2800.0   \n",
      "581  {'id': 153499, 'name': 'Baba Yaga | 168', 'own...  2250.0   \n",
      "476  {'id': 134159, 'name': 'fpsbbsksvcgmrxsbsyiunc...  2888.0   \n",
      "\n",
      "     all_stats_mean  rng_mean   win_rate message  \n",
      "567        6.461667    6.7625  46.428571     NaN  \n",
      "358        4.040000    5.3300  44.262295     NaN  \n",
      "172        4.326667    5.9525  44.230769     NaN  \n",
      "581        4.683333    6.6175  42.361111     NaN  \n",
      "476        4.701667    4.9325  41.444867     NaN  \n"
     ]
    }
   ],
   "source": [
    "test = df[df['price'] <= 3000]\n",
    "test = test.sort_values(by=['win_rate'], ascending=False).head(20) \n",
    "# test = test.sort_values(by=['win_rate'], ascending=False)\n",
    "print(test.head())\n"
   ]
  },
  {
   "cell_type": "code",
   "execution_count": 15,
   "id": "fbc579e2",
   "metadata": {},
   "outputs": [
    {
     "data": {
      "image/png": "[encoded data removed]",
      "text/plain": [
       "<Figure size 432x288 with 1 Axes>"
      ]
     },
     "metadata": {
      "needs_background": "light"
     },
     "output_type": "display_data"
    },
    {
     "data": {
      "image/png": "[encoded data removed]",
      "text/plain": [
       "<Figure size 432x288 with 1 Axes>"
      ]
     },
     "metadata": {
      "needs_background": "light"
     },
     "output_type": "display_data"
    },
    {
     "data": {
      "image/png": "[encoded data removed]",
      "text/plain": [
       "<Figure size 432x288 with 1 Axes>"
      ]
     },
     "metadata": {
      "needs_background": "light"
     },
     "output_type": "display_data"
    },
    {
     "data": {
      "image/png": "[encoded data removed]",
      "text/plain": [
       "<Figure size 432x288 with 1 Axes>"
      ]
     },
     "metadata": {
      "needs_background": "light"
     },
     "output_type": "display_data"
    },
    {
     "data": {
      "image/png": "[encoded data removed]",
      "text/plain": [
       "<Figure size 432x288 with 1 Axes>"
      ]
     },
     "metadata": {
      "needs_background": "light"
     },
     "output_type": "display_data"
    },
    {
     "data": {
      "image/png": "[encoded data removed]",
      "text/plain": [
       "<Figure size 432x288 with 1 Axes>"
      ]
     },
     "metadata": {
      "needs_background": "light"
     },
     "output_type": "display_data"
    }
   ],
   "source": [
    "plt.scatter(win_rate1['win_rate'], win_rate1['price'])\n",
    "plt.show()\n",
    "\n",
    "plt.scatter(win_rate2['win_rate'], win_rate2['price'])\n",
    "plt.show()\n",
    "\n",
    "plt.scatter(win_rate3['win_rate'], win_rate3['price'])\n",
    "plt.show()\n",
    "\n",
    "plt.scatter(win_rate4['win_rate'], win_rate4['price'])\n",
    "plt.show()\n",
    "\n",
    "plt.scatter(win_rate5['win_rate'], win_rate5['price'])\n",
    "plt.show()\n",
    "\n",
    "\n",
    "# plt.scatter(test['stats_mean'], test['win_rate'])\n",
    "# plt.show()\n",
    "\n",
    "\n",
    "# plt.scatter(test['price'], test['all_stats_mean'])\n",
    "# plt.show()\n",
    "\n",
    "plt.scatter(test['price'], test['rng_mean'])\n",
    "plt.show()"
   ]
  },
  {
   "cell_type": "code",
   "execution_count": null,
   "id": "cbb1b7ee",
   "metadata": {},
   "outputs": [],
   "source": []
  }
 ],
 "metadata": {
  "kernelspec": {
   "display_name": "Python 3 (ipykernel)",
   "language": "python",
   "name": "python3"
  },
  "language_info": {
   "codemirror_mode": {
    "name": "ipython",
    "version": 3
   },
   "file_extension": ".py",
   "mimetype": "text/x-python",
   "name": "python",
   "nbconvert_exporter": "python",
   "pygments_lexer": "ipython3",
   "version": "3.10.0"
  }
 },
 "nbformat": 4,
 "nbformat_minor": 5
}
